{
 "cells": [
  {
   "cell_type": "markdown",
   "id": "7bd237fd",
   "metadata": {},
   "source": [
    "# <center>MIE1624 – Introduction to Data Science and Analytics</center>\n",
    "\n",
    "## <center>Assignment 1</center>\n",
    "\n",
    "\n",
    "#### <center>Yunjie Xu 1008601951</center>    \n"
   ]
  },
  {
   "cell_type": "code",
   "execution_count": 1,
   "id": "dd1906cb",
   "metadata": {},
   "outputs": [],
   "source": [
    "# import packages\n",
    "import pandas as pd\n",
    "import numpy as np\n",
    "import matplotlib.pyplot as plt\n",
    "import plotly.graph_objects as go\n",
    "import seaborn as sns\n",
    "from scipy import stats\n",
    "import random"
   ]
  },
  {
   "cell_type": "code",
   "execution_count": 2,
   "id": "6706d97e",
   "metadata": {},
   "outputs": [],
   "source": [
    "# warning remove \n",
    "import warnings\n",
    "warnings.filterwarnings(\"ignore\")"
   ]
  },
  {
   "cell_type": "markdown",
   "id": "2b00f2e5",
   "metadata": {},
   "source": [
    "## 1. Data Cleaning \n",
    "\n",
    "\n",
    "    * Import the dataset and drop column 'Unnamed: 0' due to meaningless\n",
    "    * Dealing with multiple choice questions\n",
    "\n",
    "### 1.1 Import dataset\n",
    "    1. I drop 'Unnamed: 0' column, because the column looks like without meaning of analysis.\n",
    "    2. It is needless to drop any observations based on the time perspective as the minimum time from start to finish is about 2 minutes."
   ]
  },
  {
   "cell_type": "code",
   "execution_count": 3,
   "id": "5c335960",
   "metadata": {},
   "outputs": [
    {
     "data": {
      "text/html": [
       "<div>\n",
       "<style scoped>\n",
       "    .dataframe tbody tr th:only-of-type {\n",
       "        vertical-align: middle;\n",
       "    }\n",
       "\n",
       "    .dataframe tbody tr th {\n",
       "        vertical-align: top;\n",
       "    }\n",
       "\n",
       "    .dataframe thead th {\n",
       "        text-align: right;\n",
       "    }\n",
       "</style>\n",
       "<table border=\"1\" class=\"dataframe\">\n",
       "  <thead>\n",
       "    <tr style=\"text-align: right;\">\n",
       "      <th></th>\n",
       "      <th>Time from Start to Finish (seconds)</th>\n",
       "      <th>Q1</th>\n",
       "      <th>Q2</th>\n",
       "      <th>Q3</th>\n",
       "      <th>Q4</th>\n",
       "      <th>Q5</th>\n",
       "      <th>Q6</th>\n",
       "      <th>Q7_Part_1</th>\n",
       "      <th>Q7_Part_2</th>\n",
       "      <th>Q7_Part_3</th>\n",
       "      <th>...</th>\n",
       "      <th>Q38_B_Part_3</th>\n",
       "      <th>Q38_B_Part_4</th>\n",
       "      <th>Q38_B_Part_5</th>\n",
       "      <th>Q38_B_Part_6</th>\n",
       "      <th>Q38_B_Part_7</th>\n",
       "      <th>Q38_B_Part_8</th>\n",
       "      <th>Q38_B_Part_9</th>\n",
       "      <th>Q38_B_Part_10</th>\n",
       "      <th>Q38_B_Part_11</th>\n",
       "      <th>Q38_B_OTHER</th>\n",
       "    </tr>\n",
       "  </thead>\n",
       "  <tbody>\n",
       "    <tr>\n",
       "      <th>0</th>\n",
       "      <td>910</td>\n",
       "      <td>50-54</td>\n",
       "      <td>Man</td>\n",
       "      <td>India</td>\n",
       "      <td>Bachelor’s degree</td>\n",
       "      <td>Other</td>\n",
       "      <td>5-10 years</td>\n",
       "      <td>Python</td>\n",
       "      <td>R</td>\n",
       "      <td>NaN</td>\n",
       "      <td>...</td>\n",
       "      <td>NaN</td>\n",
       "      <td>NaN</td>\n",
       "      <td>NaN</td>\n",
       "      <td>NaN</td>\n",
       "      <td>NaN</td>\n",
       "      <td>NaN</td>\n",
       "      <td>NaN</td>\n",
       "      <td>NaN</td>\n",
       "      <td>NaN</td>\n",
       "      <td>NaN</td>\n",
       "    </tr>\n",
       "    <tr>\n",
       "      <th>1</th>\n",
       "      <td>784</td>\n",
       "      <td>50-54</td>\n",
       "      <td>Man</td>\n",
       "      <td>Indonesia</td>\n",
       "      <td>Master’s degree</td>\n",
       "      <td>Program/Project Manager</td>\n",
       "      <td>20+ years</td>\n",
       "      <td>NaN</td>\n",
       "      <td>NaN</td>\n",
       "      <td>SQL</td>\n",
       "      <td>...</td>\n",
       "      <td>NaN</td>\n",
       "      <td>NaN</td>\n",
       "      <td>NaN</td>\n",
       "      <td>NaN</td>\n",
       "      <td>NaN</td>\n",
       "      <td>NaN</td>\n",
       "      <td>NaN</td>\n",
       "      <td>NaN</td>\n",
       "      <td>None</td>\n",
       "      <td>NaN</td>\n",
       "    </tr>\n",
       "    <tr>\n",
       "      <th>2</th>\n",
       "      <td>924</td>\n",
       "      <td>22-24</td>\n",
       "      <td>Man</td>\n",
       "      <td>Pakistan</td>\n",
       "      <td>Master’s degree</td>\n",
       "      <td>Software Engineer</td>\n",
       "      <td>1-3 years</td>\n",
       "      <td>Python</td>\n",
       "      <td>NaN</td>\n",
       "      <td>NaN</td>\n",
       "      <td>...</td>\n",
       "      <td>NaN</td>\n",
       "      <td>NaN</td>\n",
       "      <td>TensorBoard</td>\n",
       "      <td>NaN</td>\n",
       "      <td>NaN</td>\n",
       "      <td>NaN</td>\n",
       "      <td>NaN</td>\n",
       "      <td>NaN</td>\n",
       "      <td>NaN</td>\n",
       "      <td>NaN</td>\n",
       "    </tr>\n",
       "    <tr>\n",
       "      <th>3</th>\n",
       "      <td>575</td>\n",
       "      <td>45-49</td>\n",
       "      <td>Man</td>\n",
       "      <td>Mexico</td>\n",
       "      <td>Doctoral degree</td>\n",
       "      <td>Research Scientist</td>\n",
       "      <td>20+ years</td>\n",
       "      <td>Python</td>\n",
       "      <td>NaN</td>\n",
       "      <td>NaN</td>\n",
       "      <td>...</td>\n",
       "      <td>NaN</td>\n",
       "      <td>NaN</td>\n",
       "      <td>NaN</td>\n",
       "      <td>NaN</td>\n",
       "      <td>NaN</td>\n",
       "      <td>NaN</td>\n",
       "      <td>NaN</td>\n",
       "      <td>NaN</td>\n",
       "      <td>None</td>\n",
       "      <td>NaN</td>\n",
       "    </tr>\n",
       "    <tr>\n",
       "      <th>4</th>\n",
       "      <td>781</td>\n",
       "      <td>45-49</td>\n",
       "      <td>Man</td>\n",
       "      <td>India</td>\n",
       "      <td>Doctoral degree</td>\n",
       "      <td>Other</td>\n",
       "      <td>&lt; 1 years</td>\n",
       "      <td>Python</td>\n",
       "      <td>NaN</td>\n",
       "      <td>NaN</td>\n",
       "      <td>...</td>\n",
       "      <td>NaN</td>\n",
       "      <td>NaN</td>\n",
       "      <td>NaN</td>\n",
       "      <td>NaN</td>\n",
       "      <td>NaN</td>\n",
       "      <td>NaN</td>\n",
       "      <td>NaN</td>\n",
       "      <td>NaN</td>\n",
       "      <td>NaN</td>\n",
       "      <td>NaN</td>\n",
       "    </tr>\n",
       "    <tr>\n",
       "      <th>...</th>\n",
       "      <td>...</td>\n",
       "      <td>...</td>\n",
       "      <td>...</td>\n",
       "      <td>...</td>\n",
       "      <td>...</td>\n",
       "      <td>...</td>\n",
       "      <td>...</td>\n",
       "      <td>...</td>\n",
       "      <td>...</td>\n",
       "      <td>...</td>\n",
       "      <td>...</td>\n",
       "      <td>...</td>\n",
       "      <td>...</td>\n",
       "      <td>...</td>\n",
       "      <td>...</td>\n",
       "      <td>...</td>\n",
       "      <td>...</td>\n",
       "      <td>...</td>\n",
       "      <td>...</td>\n",
       "      <td>...</td>\n",
       "      <td>...</td>\n",
       "    </tr>\n",
       "    <tr>\n",
       "      <th>15386</th>\n",
       "      <td>323</td>\n",
       "      <td>30-34</td>\n",
       "      <td>Man</td>\n",
       "      <td>India</td>\n",
       "      <td>Bachelor’s degree</td>\n",
       "      <td>Data Analyst</td>\n",
       "      <td>1-3 years</td>\n",
       "      <td>Python</td>\n",
       "      <td>NaN</td>\n",
       "      <td>NaN</td>\n",
       "      <td>...</td>\n",
       "      <td>NaN</td>\n",
       "      <td>NaN</td>\n",
       "      <td>NaN</td>\n",
       "      <td>NaN</td>\n",
       "      <td>NaN</td>\n",
       "      <td>NaN</td>\n",
       "      <td>NaN</td>\n",
       "      <td>NaN</td>\n",
       "      <td>NaN</td>\n",
       "      <td>NaN</td>\n",
       "    </tr>\n",
       "    <tr>\n",
       "      <th>15387</th>\n",
       "      <td>910</td>\n",
       "      <td>35-39</td>\n",
       "      <td>Man</td>\n",
       "      <td>South Korea</td>\n",
       "      <td>Bachelor’s degree</td>\n",
       "      <td>Software Engineer</td>\n",
       "      <td>5-10 years</td>\n",
       "      <td>Python</td>\n",
       "      <td>NaN</td>\n",
       "      <td>SQL</td>\n",
       "      <td>...</td>\n",
       "      <td>NaN</td>\n",
       "      <td>NaN</td>\n",
       "      <td>NaN</td>\n",
       "      <td>NaN</td>\n",
       "      <td>NaN</td>\n",
       "      <td>NaN</td>\n",
       "      <td>NaN</td>\n",
       "      <td>NaN</td>\n",
       "      <td>NaN</td>\n",
       "      <td>NaN</td>\n",
       "    </tr>\n",
       "    <tr>\n",
       "      <th>15388</th>\n",
       "      <td>1756</td>\n",
       "      <td>30-34</td>\n",
       "      <td>Man</td>\n",
       "      <td>Egypt</td>\n",
       "      <td>Bachelor’s degree</td>\n",
       "      <td>Data Analyst</td>\n",
       "      <td>1-3 years</td>\n",
       "      <td>Python</td>\n",
       "      <td>NaN</td>\n",
       "      <td>SQL</td>\n",
       "      <td>...</td>\n",
       "      <td>NaN</td>\n",
       "      <td>NaN</td>\n",
       "      <td>NaN</td>\n",
       "      <td>NaN</td>\n",
       "      <td>NaN</td>\n",
       "      <td>NaN</td>\n",
       "      <td>NaN</td>\n",
       "      <td>NaN</td>\n",
       "      <td>NaN</td>\n",
       "      <td>NaN</td>\n",
       "    </tr>\n",
       "    <tr>\n",
       "      <th>15389</th>\n",
       "      <td>494</td>\n",
       "      <td>50-54</td>\n",
       "      <td>Man</td>\n",
       "      <td>Sweden</td>\n",
       "      <td>Doctoral degree</td>\n",
       "      <td>Research Scientist</td>\n",
       "      <td>I have never written code</td>\n",
       "      <td>NaN</td>\n",
       "      <td>NaN</td>\n",
       "      <td>NaN</td>\n",
       "      <td>...</td>\n",
       "      <td>NaN</td>\n",
       "      <td>NaN</td>\n",
       "      <td>NaN</td>\n",
       "      <td>NaN</td>\n",
       "      <td>NaN</td>\n",
       "      <td>NaN</td>\n",
       "      <td>NaN</td>\n",
       "      <td>NaN</td>\n",
       "      <td>None</td>\n",
       "      <td>NaN</td>\n",
       "    </tr>\n",
       "    <tr>\n",
       "      <th>15390</th>\n",
       "      <td>255</td>\n",
       "      <td>18-21</td>\n",
       "      <td>Man</td>\n",
       "      <td>India</td>\n",
       "      <td>Bachelor’s degree</td>\n",
       "      <td>Business Analyst</td>\n",
       "      <td>I have never written code</td>\n",
       "      <td>NaN</td>\n",
       "      <td>NaN</td>\n",
       "      <td>NaN</td>\n",
       "      <td>...</td>\n",
       "      <td>NaN</td>\n",
       "      <td>NaN</td>\n",
       "      <td>NaN</td>\n",
       "      <td>NaN</td>\n",
       "      <td>NaN</td>\n",
       "      <td>NaN</td>\n",
       "      <td>NaN</td>\n",
       "      <td>NaN</td>\n",
       "      <td>None</td>\n",
       "      <td>NaN</td>\n",
       "    </tr>\n",
       "  </tbody>\n",
       "</table>\n",
       "<p>15391 rows × 369 columns</p>\n",
       "</div>"
      ],
      "text/plain": [
       "       Time from Start to Finish (seconds)     Q1   Q2           Q3  \\\n",
       "0                                      910  50-54  Man        India   \n",
       "1                                      784  50-54  Man    Indonesia   \n",
       "2                                      924  22-24  Man     Pakistan   \n",
       "3                                      575  45-49  Man       Mexico   \n",
       "4                                      781  45-49  Man        India   \n",
       "...                                    ...    ...  ...          ...   \n",
       "15386                                  323  30-34  Man        India   \n",
       "15387                                  910  35-39  Man  South Korea   \n",
       "15388                                 1756  30-34  Man        Egypt   \n",
       "15389                                  494  50-54  Man       Sweden   \n",
       "15390                                  255  18-21  Man        India   \n",
       "\n",
       "                      Q4                       Q5                         Q6  \\\n",
       "0      Bachelor’s degree                    Other                 5-10 years   \n",
       "1        Master’s degree  Program/Project Manager                  20+ years   \n",
       "2        Master’s degree        Software Engineer                  1-3 years   \n",
       "3        Doctoral degree       Research Scientist                  20+ years   \n",
       "4        Doctoral degree                    Other                  < 1 years   \n",
       "...                  ...                      ...                        ...   \n",
       "15386  Bachelor’s degree             Data Analyst                  1-3 years   \n",
       "15387  Bachelor’s degree        Software Engineer                 5-10 years   \n",
       "15388  Bachelor’s degree             Data Analyst                  1-3 years   \n",
       "15389    Doctoral degree       Research Scientist  I have never written code   \n",
       "15390  Bachelor’s degree         Business Analyst  I have never written code   \n",
       "\n",
       "      Q7_Part_1 Q7_Part_2 Q7_Part_3  ... Q38_B_Part_3 Q38_B_Part_4  \\\n",
       "0        Python         R       NaN  ...          NaN          NaN   \n",
       "1           NaN       NaN       SQL  ...          NaN          NaN   \n",
       "2        Python       NaN       NaN  ...          NaN          NaN   \n",
       "3        Python       NaN       NaN  ...          NaN          NaN   \n",
       "4        Python       NaN       NaN  ...          NaN          NaN   \n",
       "...         ...       ...       ...  ...          ...          ...   \n",
       "15386    Python       NaN       NaN  ...          NaN          NaN   \n",
       "15387    Python       NaN       SQL  ...          NaN          NaN   \n",
       "15388    Python       NaN       SQL  ...          NaN          NaN   \n",
       "15389       NaN       NaN       NaN  ...          NaN          NaN   \n",
       "15390       NaN       NaN       NaN  ...          NaN          NaN   \n",
       "\n",
       "        Q38_B_Part_5 Q38_B_Part_6 Q38_B_Part_7 Q38_B_Part_8 Q38_B_Part_9  \\\n",
       "0                NaN          NaN          NaN          NaN          NaN   \n",
       "1                NaN          NaN          NaN          NaN          NaN   \n",
       "2       TensorBoard           NaN          NaN          NaN          NaN   \n",
       "3                NaN          NaN          NaN          NaN          NaN   \n",
       "4                NaN          NaN          NaN          NaN          NaN   \n",
       "...              ...          ...          ...          ...          ...   \n",
       "15386            NaN          NaN          NaN          NaN          NaN   \n",
       "15387            NaN          NaN          NaN          NaN          NaN   \n",
       "15388            NaN          NaN          NaN          NaN          NaN   \n",
       "15389            NaN          NaN          NaN          NaN          NaN   \n",
       "15390            NaN          NaN          NaN          NaN          NaN   \n",
       "\n",
       "      Q38_B_Part_10 Q38_B_Part_11 Q38_B_OTHER  \n",
       "0               NaN           NaN         NaN  \n",
       "1               NaN          None         NaN  \n",
       "2               NaN           NaN         NaN  \n",
       "3               NaN          None         NaN  \n",
       "4               NaN           NaN         NaN  \n",
       "...             ...           ...         ...  \n",
       "15386           NaN           NaN         NaN  \n",
       "15387           NaN           NaN         NaN  \n",
       "15388           NaN           NaN         NaN  \n",
       "15389           NaN          None         NaN  \n",
       "15390           NaN          None         NaN  \n",
       "\n",
       "[15391 rows x 369 columns]"
      ]
     },
     "execution_count": 3,
     "metadata": {},
     "output_type": "execute_result"
    }
   ],
   "source": [
    "df = pd.read_csv('clean_kaggle_data.csv',low_memory=False)\n",
    "df = df.iloc[:,1:370] \n",
    "\n",
    "#pd.set_option('display.max_columns', None)\n",
    "df"
   ]
  },
  {
   "cell_type": "code",
   "execution_count": 4,
   "id": "eff718a9",
   "metadata": {},
   "outputs": [
    {
     "data": {
      "text/plain": [
       "121"
      ]
     },
     "execution_count": 4,
     "metadata": {},
     "output_type": "execute_result"
    }
   ],
   "source": [
    "min(df['Time from Start to Finish (seconds)'].values)"
   ]
  },
  {
   "cell_type": "markdown",
   "id": "1154b63c",
   "metadata": {},
   "source": [
    "### 1.2 Dealing with MCQ\n",
    "\n",
    "      There are many questions listed in 'clean_kaggle_data.csv' are multiple choice questions. The replier can select one or more even None based on their background, thus many columns with many missing values since people who answered the question may not select that choice but select other choices. I may lose many useful information, if I simply drop these columns. Thus, I combine each multiple choice question into one single column with numerical values based on their selection. For example, there are 13 parts including 11 specific language skills, one other skill, and one None (means no skill), if the one who selected Python and Other as his choices, therefore, the value for Q7 will be 1+1=2, if the one who did not respond or selected None as his choice, the value for Q7 is. The reason why I doing this is that I assume that the individuals may earn more if he or she master more languages, platforms, skills, and algorithms...\n"
   ]
  },
  {
   "cell_type": "code",
   "execution_count": 5,
   "id": "67e778d1",
   "metadata": {},
   "outputs": [],
   "source": [
    "# Question 7\n",
    "Q_7 = ['Q7_Part_1','Q7_Part_2','Q7_Part_3','Q7_Part_4','Q7_Part_5',\n",
    "      'Q7_Part_6','Q7_Part_7','Q7_Part_8','Q7_Part_9','Q7_Part_10',\n",
    "      'Q7_Part_11','Q7_Part_12','Q7_OTHER']\n",
    "\n",
    "MCQ = ['Q7_Part_1','Q7_Part_2','Q7_Part_3','Q7_Part_4','Q7_Part_5',\n",
    "      'Q7_Part_6','Q7_Part_7','Q7_Part_8','Q7_Part_9','Q7_Part_10',\n",
    "      'Q7_Part_11','Q7_OTHER']\n",
    "\n",
    "df_m = df[MCQ]\n",
    "df_m = df_m.fillna(0)\n",
    "\n",
    "# df[MCQ].sum(axis=1).astype(int)\n",
    "df.insert(7, \"Languages\", df[MCQ].sum(axis=1).astype(int))\n",
    "df.drop(Q_7,axis=1,inplace=True)"
   ]
  },
  {
   "cell_type": "code",
   "execution_count": 6,
   "id": "a8e0037d",
   "metadata": {},
   "outputs": [],
   "source": [
    "# Question 9\n",
    "Q_9 = ['Q9_Part_1','Q9_Part_2','Q9_Part_3','Q9_Part_4','Q9_Part_5',\n",
    "       'Q9_Part_6','Q9_Part_7','Q9_Part_8','Q9_Part_9','Q9_Part_10',\n",
    "       'Q9_Part_11','Q9_Part_12','Q9_OTHER']\n",
    "\n",
    "MCQ = ['Q9_Part_1','Q9_Part_2','Q9_Part_3','Q9_Part_4','Q9_Part_5',\n",
    "       'Q9_Part_6','Q9_Part_7','Q9_Part_8','Q9_Part_9','Q9_Part_10',\n",
    "       'Q9_Part_11','Q9_Part_12']\n",
    "\n",
    "df_m = df[MCQ]\n",
    "df_m = df_m.fillna(0)\n",
    "\n",
    "# df[MCQ].sum(axis=1).astype(int)\n",
    "df.insert(9, \"IDE\", df[MCQ].sum(axis=1).astype(int))\n",
    "df.drop(Q_9,axis=1,inplace=True)"
   ]
  },
  {
   "cell_type": "code",
   "execution_count": 7,
   "id": "80442f3f",
   "metadata": {},
   "outputs": [],
   "source": [
    "# Question 10\n",
    "Q_10 = ['Q10_Part_1','Q10_Part_2','Q10_Part_3','Q10_Part_4','Q10_Part_5',\n",
    "        'Q10_Part_6','Q10_Part_7','Q10_Part_8','Q10_Part_9','Q10_Part_10',\n",
    "        'Q10_Part_11','Q10_Part_12','Q10_Part_13','Q10_Part_14','Q10_Part_15',\n",
    "        'Q10_Part_16','Q10_OTHER']\n",
    "\n",
    "MCQ = ['Q10_Part_1','Q10_Part_2','Q10_Part_3','Q10_Part_4','Q10_Part_5',\n",
    "       'Q10_Part_6','Q10_Part_7','Q10_Part_8','Q10_Part_9','Q10_Part_10',\n",
    "       'Q10_Part_11','Q10_Part_12','Q10_Part_13','Q10_Part_14','Q10_Part_15',\n",
    "       'Q10_OTHER']\n",
    "\n",
    "df_m = df[MCQ]\n",
    "df_m = df_m.fillna(0)\n",
    "\n",
    "# df[MCQ].sum(axis=1).astype(int)\n",
    "df.insert(10, \"Hosted Notebook Products\", df[MCQ].sum(axis=1).astype(int))\n",
    "df.drop(Q_10,axis=1,inplace=True)"
   ]
  },
  {
   "cell_type": "code",
   "execution_count": 8,
   "id": "b174cb19",
   "metadata": {},
   "outputs": [],
   "source": [
    "# Question 12\n",
    "Q_12 = ['Q12_Part_1','Q12_Part_2','Q12_Part_3','Q12_Part_4','Q12_Part_5',\n",
    "        'Q12_OTHER']\n",
    "\n",
    "MCQ = ['Q12_Part_1','Q12_Part_2','Q12_Part_3','Q12_Part_4','Q12_OTHER']\n",
    "\n",
    "df_m = df[MCQ]\n",
    "df_m = df_m.fillna(0)\n",
    "\n",
    "# df[MCQ].sum(axis=1).astype(int)\n",
    "df.insert(12, \"Specialized Hardware\", df[MCQ].sum(axis=1).astype(int))\n",
    "df.drop(Q_12,axis=1,inplace=True)"
   ]
  },
  {
   "cell_type": "code",
   "execution_count": 9,
   "id": "d0ae46e5",
   "metadata": {},
   "outputs": [],
   "source": [
    "# Question 14\n",
    "Q_14 = ['Q14_Part_1','Q14_Part_2','Q14_Part_3','Q14_Part_4','Q14_Part_5',\n",
    "        'Q14_Part_6','Q14_Part_7','Q14_Part_8','Q14_Part_9','Q14_Part_10',\n",
    "        'Q14_Part_11','Q14_OTHER']\n",
    "\n",
    "MCQ = ['Q14_Part_1','Q14_Part_2','Q14_Part_3','Q14_Part_4','Q14_Part_5',\n",
    "       'Q14_Part_6','Q14_Part_7','Q14_Part_8','Q14_Part_9','Q14_Part_10',\n",
    "       'Q14_OTHER']\n",
    "\n",
    "df_m = df[MCQ]\n",
    "df_m = df_m.fillna(0)\n",
    "\n",
    "# df[MCQ].sum(axis=1).astype(int)\n",
    "df.insert(14, \"Data Visualization Libraries\", df[MCQ].sum(axis=1).astype(int))\n",
    "df.drop(Q_14,axis=1,inplace=True)"
   ]
  },
  {
   "cell_type": "code",
   "execution_count": 10,
   "id": "d93e38fd",
   "metadata": {},
   "outputs": [],
   "source": [
    "# Question 16\n",
    "Q_16 = ['Q16_Part_1','Q16_Part_2','Q16_Part_3','Q16_Part_4','Q16_Part_5',\n",
    "        'Q16_Part_6','Q16_Part_7','Q16_Part_8','Q16_Part_9','Q16_Part_10',\n",
    "        'Q16_Part_11','Q16_Part_12','Q16_Part_13','Q16_Part_14','Q16_Part_15',\n",
    "        'Q16_Part_16','Q16_Part_17','Q16_OTHER']\n",
    "\n",
    "MCQ = ['Q16_Part_1','Q16_Part_2','Q16_Part_3','Q16_Part_4','Q16_Part_5',\n",
    "        'Q16_Part_6','Q16_Part_7','Q16_Part_8','Q16_Part_9','Q16_Part_10',\n",
    "        'Q16_Part_11','Q16_Part_12','Q16_Part_13','Q16_Part_14','Q16_Part_15',\n",
    "        'Q16_Part_16','Q16_OTHER']\n",
    "\n",
    "df_m = df[MCQ]\n",
    "df_m = df_m.fillna(0)\n",
    "\n",
    "# df[MCQ].sum(axis=1).astype(int)\n",
    "df.insert(16, \"Machine Learning Frameworks\", df[MCQ].sum(axis=1).astype(int))\n",
    "df.drop(Q_16,axis=1,inplace=True)"
   ]
  },
  {
   "cell_type": "code",
   "execution_count": 11,
   "id": "31b98ffe",
   "metadata": {},
   "outputs": [],
   "source": [
    "# Question 17\n",
    "Q_17 = ['Q17_Part_1','Q17_Part_2','Q17_Part_3','Q17_Part_4','Q17_Part_5',\n",
    "        'Q17_Part_6','Q17_Part_7','Q17_Part_8','Q17_Part_9','Q17_Part_10',\n",
    "        'Q17_Part_11','Q17_OTHER']\n",
    "\n",
    "MCQ = ['Q17_Part_1','Q17_Part_2','Q17_Part_3','Q17_Part_4','Q17_Part_5',\n",
    "       'Q17_Part_6','Q17_Part_7','Q17_Part_8','Q17_Part_9','Q17_Part_10',\n",
    "       'Q17_OTHER']\n",
    "\n",
    "df_m = df[MCQ]\n",
    "df_m = df_m.fillna(0)\n",
    "\n",
    "# df[MCQ].sum(axis=1).astype(int)\n",
    "df.insert(17, \"ML Algorithms\", df[MCQ].sum(axis=1).astype(int))\n",
    "df.drop(Q_17,axis=1,inplace=True)"
   ]
  },
  {
   "cell_type": "code",
   "execution_count": 12,
   "id": "a010c996",
   "metadata": {},
   "outputs": [],
   "source": [
    "# Question 18\n",
    "Q_18 = ['Q18_Part_1','Q18_Part_2','Q18_Part_3','Q18_Part_4','Q18_Part_5',\n",
    "        'Q18_Part_6','Q18_OTHER']\n",
    "\n",
    "MCQ = ['Q18_Part_1','Q18_Part_2','Q18_Part_3','Q18_Part_4','Q18_Part_5',\n",
    "       'Q18_OTHER']\n",
    "\n",
    "df_m = df[MCQ]\n",
    "df_m = df_m.fillna(0)\n",
    "\n",
    "# df[MCQ].sum(axis=1).astype(int)\n",
    "df.insert(18, \"Computer Vision Methods\", df[MCQ].sum(axis=1).astype(int))\n",
    "df.drop(Q_18,axis=1,inplace=True)"
   ]
  },
  {
   "cell_type": "code",
   "execution_count": 13,
   "id": "63eef58e",
   "metadata": {},
   "outputs": [],
   "source": [
    "# Question 19\n",
    "Q_19 = ['Q19_Part_1','Q19_Part_2','Q19_Part_3','Q19_Part_4','Q19_Part_5',\n",
    "        'Q19_OTHER']\n",
    "\n",
    "MCQ = ['Q19_Part_1','Q19_Part_2','Q19_Part_3','Q19_Part_4','Q19_OTHER']\n",
    "\n",
    "df_m = df[MCQ]\n",
    "df_m = df_m.fillna(0)\n",
    "\n",
    "# df[MCQ].sum(axis=1).astype(int)\n",
    "df.insert(19, \"NLP Methods\", df[MCQ].sum(axis=1).astype(int))\n",
    "df.drop(Q_19,axis=1,inplace=True)"
   ]
  },
  {
   "cell_type": "code",
   "execution_count": 14,
   "id": "3532242a",
   "metadata": {},
   "outputs": [],
   "source": [
    "# Question 24\n",
    "Q_24 = ['Q24_Part_1','Q24_Part_2','Q24_Part_3','Q24_Part_4','Q24_Part_5',\n",
    "        'Q24_Part_6','Q24_Part_7','Q24_OTHER']\n",
    "\n",
    "MCQ = ['Q24_Part_1','Q24_Part_2','Q24_Part_3','Q24_Part_4','Q24_Part_5',\n",
    "       'Q24_Part_6','Q24_OTHER']\n",
    "\n",
    "df_m = df[MCQ]\n",
    "df_m = df_m.fillna(0)\n",
    "\n",
    "# df[MCQ].sum(axis=1).astype(int)\n",
    "df.insert(24, \"Important Activities\", df[MCQ].sum(axis=1).astype(int))\n",
    "df.drop(Q_24,axis=1,inplace=True)"
   ]
  },
  {
   "cell_type": "code",
   "execution_count": 15,
   "id": "09725140",
   "metadata": {},
   "outputs": [],
   "source": [
    "# Question 27_A\n",
    "Q27_A = ['Q27_A_Part_1','Q27_A_Part_2','Q27_A_Part_3','Q27_A_Part_4','Q27_A_Part_5',\n",
    "         'Q27_A_Part_6','Q27_A_Part_7','Q27_A_Part_8','Q27_A_Part_9','Q27_A_Part_10',\n",
    "         'Q27_A_Part_11','Q27_A_OTHER']\n",
    "\n",
    "MCQ = ['Q27_A_Part_1','Q27_A_Part_2','Q27_A_Part_3','Q27_A_Part_4','Q27_A_Part_5',\n",
    "       'Q27_A_Part_6','Q27_A_Part_7','Q27_A_Part_8','Q27_A_Part_9','Q27_A_Part_10',\n",
    "       'Q27_A_OTHER']\n",
    "\n",
    "df_m = df[MCQ]\n",
    "df_m = df_m.fillna(0)\n",
    "\n",
    "# df[MCQ].sum(axis=1).astype(int)\n",
    "df.insert(27, \"Cloud Computing Platforms\", df[MCQ].sum(axis=1).astype(int))\n",
    "df.drop(Q27_A,axis=1,inplace=True)"
   ]
  },
  {
   "cell_type": "code",
   "execution_count": 16,
   "id": "a47ca17c",
   "metadata": {},
   "outputs": [],
   "source": [
    "# Question 29_A\n",
    "Q29_A = ['Q29_A_Part_1','Q29_A_Part_2','Q29_A_Part_3','Q29_A_Part_4','Q29_A_OTHER']\n",
    "\n",
    "MCQ = ['Q29_A_Part_1','Q29_A_Part_2','Q29_A_Part_3','Q29_A_OTHER']\n",
    "\n",
    "df_m = df[MCQ]\n",
    "df_m = df_m.fillna(0)\n",
    "\n",
    "# df[MCQ].sum(axis=1).astype(int)\n",
    "df.insert(29, \"Cloud Computing Products\", df[MCQ].sum(axis=1).astype(int))\n",
    "df.drop(Q29_A,axis=1,inplace=True)"
   ]
  },
  {
   "cell_type": "code",
   "execution_count": 17,
   "id": "c0365100",
   "metadata": {},
   "outputs": [],
   "source": [
    "# Question 30_A\n",
    "Q30_A = ['Q30_A_Part_1','Q30_A_Part_2','Q30_A_Part_3','Q30_A_Part_4','Q30_A_Part_5',\n",
    "         'Q30_A_Part_6','Q30_A_Part_7','Q30_A_OTHER']\n",
    "\n",
    "MCQ = ['Q30_A_Part_1','Q30_A_Part_2','Q30_A_Part_3','Q30_A_Part_4','Q30_A_Part_5',\n",
    "       'Q30_A_Part_6','Q30_A_OTHER']\n",
    "\n",
    "df_m = df[MCQ]\n",
    "df_m = df_m.fillna(0)\n",
    "\n",
    "# df[MCQ].sum(axis=1).astype(int)\n",
    "df.insert(30, \"Data Storage Products\", df[MCQ].sum(axis=1).astype(int))\n",
    "df.drop(Q30_A,axis=1,inplace=True)"
   ]
  },
  {
   "cell_type": "code",
   "execution_count": 18,
   "id": "63aa7773",
   "metadata": {},
   "outputs": [],
   "source": [
    "# Question 31_A\n",
    "Q31_A = ['Q31_A_Part_1','Q31_A_Part_2','Q31_A_Part_3','Q31_A_Part_4','Q31_A_Part_5',\n",
    "         'Q31_A_Part_6','Q31_A_Part_7','Q31_A_Part_8','Q31_A_Part_9','Q31_A_OTHER']\n",
    "\n",
    "MCQ = ['Q31_A_Part_1','Q31_A_Part_2','Q31_A_Part_3','Q31_A_Part_4','Q31_A_Part_5',\n",
    "       'Q31_A_Part_6','Q31_A_Part_7','Q31_A_Part_8','Q31_A_OTHER']\n",
    "\n",
    "df_m = df[MCQ]\n",
    "df_m = df_m.fillna(0)\n",
    "\n",
    "# df[MCQ].sum(axis=1).astype(int)\n",
    "df.insert(31, \"Managed ML Products\", df[MCQ].sum(axis=1).astype(int))\n",
    "df.drop(Q31_A,axis=1,inplace=True)"
   ]
  },
  {
   "cell_type": "code",
   "execution_count": 19,
   "id": "3758c0f5",
   "metadata": {},
   "outputs": [],
   "source": [
    "# Question 32_A\n",
    "Q32_A = ['Q32_A_Part_1','Q32_A_Part_2','Q32_A_Part_3','Q32_A_Part_4','Q32_A_Part_5',\n",
    "         'Q32_A_Part_6','Q32_A_Part_7','Q32_A_Part_8','Q32_A_Part_9','Q32_A_Part_10',\n",
    "         'Q32_A_Part_11','Q32_A_Part_12','Q32_A_Part_13','Q32_A_Part_14','Q32_A_Part_15',\n",
    "         'Q32_A_Part_16','Q32_A_Part_17','Q32_A_Part_18','Q32_A_Part_19','Q32_A_Part_20',\n",
    "         'Q32_A_OTHER']\n",
    "\n",
    "MCQ = ['Q32_A_Part_1','Q32_A_Part_2','Q32_A_Part_3','Q32_A_Part_4','Q32_A_Part_5',\n",
    "         'Q32_A_Part_6','Q32_A_Part_7','Q32_A_Part_8','Q32_A_Part_9','Q32_A_Part_10',\n",
    "         'Q32_A_Part_11','Q32_A_Part_12','Q32_A_Part_13','Q32_A_Part_14','Q32_A_Part_15',\n",
    "         'Q32_A_Part_16','Q32_A_Part_17','Q32_A_Part_18','Q32_A_Part_19','Q32_A_OTHER']\n",
    "\n",
    "df_m = df[MCQ]\n",
    "df_m = df_m.fillna(0)\n",
    "\n",
    "# df[MCQ].sum(axis=1).astype(int)\n",
    "df.insert(32, \"Big Data Products\", df[MCQ].sum(axis=1).astype(int))\n",
    "df.drop(Q32_A,axis=1,inplace=True)"
   ]
  },
  {
   "cell_type": "code",
   "execution_count": 20,
   "id": "c68ec386",
   "metadata": {},
   "outputs": [],
   "source": [
    "# Question 34_A\n",
    "Q34_A = ['Q34_A_Part_1','Q34_A_Part_2','Q34_A_Part_3','Q34_A_Part_4','Q34_A_Part_5',\n",
    "         'Q34_A_Part_6','Q34_A_Part_7','Q34_A_Part_8','Q34_A_Part_9','Q34_A_Part_10',\n",
    "         'Q34_A_Part_11','Q34_A_Part_12','Q34_A_Part_13','Q34_A_Part_14','Q34_A_Part_15',\n",
    "         'Q34_A_Part_16','Q34_A_OTHER']\n",
    "\n",
    "MCQ = ['Q34_A_Part_1','Q34_A_Part_2','Q34_A_Part_3','Q34_A_Part_4','Q34_A_Part_5',\n",
    "        'Q34_A_Part_6','Q34_A_Part_7','Q34_A_Part_8','Q34_A_Part_9','Q34_A_Part_10',\n",
    "        'Q34_A_Part_11','Q34_A_Part_12','Q34_A_Part_13','Q34_A_Part_14','Q34_A_Part_15',\n",
    "        'Q34_A_OTHER']\n",
    "\n",
    "df_m = df[MCQ]\n",
    "df_m = df_m.fillna(0)\n",
    "\n",
    "# df[MCQ].sum(axis=1).astype(int)\n",
    "df.insert(34, \"Business Intelligence Tools\", df[MCQ].sum(axis=1).astype(int))\n",
    "df.drop(Q34_A,axis=1,inplace=True)"
   ]
  },
  {
   "cell_type": "code",
   "execution_count": 21,
   "id": "c755ac8d",
   "metadata": {},
   "outputs": [],
   "source": [
    "# Question 36_A\n",
    "Q36_A = ['Q36_A_Part_1','Q36_A_Part_2','Q36_A_Part_3','Q36_A_Part_4','Q36_A_Part_5',\n",
    "         'Q36_A_Part_6','Q36_A_Part_7','Q36_A_OTHER']\n",
    "\n",
    "MCQ = ['Q36_A_Part_1','Q36_A_Part_2','Q36_A_Part_3','Q36_A_Part_4','Q36_A_Part_5',\n",
    "       'Q36_A_Part_6','Q36_A_OTHER']\n",
    "\n",
    "df_m = df[MCQ]\n",
    "df_m = df_m.fillna(0)\n",
    "\n",
    "# df[MCQ].sum(axis=1).astype(int)\n",
    "df.insert(36, \"AutoML Tools 1\", df[MCQ].sum(axis=1).astype(int))\n",
    "df.drop(Q36_A,axis=1,inplace=True)"
   ]
  },
  {
   "cell_type": "code",
   "execution_count": 22,
   "id": "93b6b911",
   "metadata": {},
   "outputs": [],
   "source": [
    "# Question 37_A\n",
    "Q37_A = ['Q37_A_Part_1','Q37_A_Part_2','Q37_A_Part_3','Q37_A_Part_4','Q37_A_Part_5',\n",
    "         'Q37_A_Part_6','Q37_A_Part_7','Q37_A_OTHER']\n",
    "\n",
    "MCQ = ['Q37_A_Part_1','Q37_A_Part_2','Q37_A_Part_3','Q37_A_Part_4','Q37_A_Part_5',\n",
    "       'Q37_A_Part_6','Q37_A_OTHER']\n",
    "\n",
    "df_m = df[MCQ]\n",
    "df_m = df_m.fillna(0)\n",
    "\n",
    "# df[MCQ].sum(axis=1).astype(int)\n",
    "df.insert(37, \"AutoML Tools 2\", df[MCQ].sum(axis=1).astype(int))\n",
    "df.drop(Q37_A,axis=1,inplace=True)"
   ]
  },
  {
   "cell_type": "code",
   "execution_count": 23,
   "id": "ba205927",
   "metadata": {},
   "outputs": [],
   "source": [
    "# Question 38_A\n",
    "Q38_A = ['Q38_A_Part_1','Q38_A_Part_2','Q38_A_Part_3','Q38_A_Part_4','Q38_A_Part_5',\n",
    "         'Q38_A_Part_6','Q38_A_Part_7','Q38_A_Part_8','Q38_A_Part_9','Q38_A_Part_10',\n",
    "         'Q38_A_Part_11','Q38_A_OTHER']\n",
    "\n",
    "MCQ = ['Q38_A_Part_1','Q38_A_Part_2','Q38_A_Part_3','Q38_A_Part_4','Q38_A_Part_5',\n",
    "       'Q38_A_Part_6','Q38_A_Part_7','Q38_A_Part_8','Q38_A_Part_9','Q38_A_Part_10',\n",
    "       'Q38_A_OTHER']\n",
    "\n",
    "df_m = df[MCQ]\n",
    "df_m = df_m.fillna(0)\n",
    "\n",
    "# df[MCQ].sum(axis=1).astype(int)\n",
    "df.insert(38, \"Tools for Help Manage ML Experiments\", df[MCQ].sum(axis=1).astype(int))\n",
    "df.drop(Q38_A,axis=1,inplace=True)"
   ]
  },
  {
   "cell_type": "code",
   "execution_count": 24,
   "id": "0ddc3f18",
   "metadata": {},
   "outputs": [],
   "source": [
    "# Question 39\n",
    "Q_39 = ['Q39_Part_1','Q39_Part_2','Q39_Part_3','Q39_Part_4','Q39_Part_5',\n",
    "         'Q39_Part_6','Q39_Part_7','Q39_Part_8','Q39_Part_9','Q39_OTHER']\n",
    "\n",
    "MCQ = ['Q39_Part_1','Q39_Part_2','Q39_Part_3','Q39_Part_4','Q39_Part_5',\n",
    "       'Q39_Part_6','Q39_Part_7','Q39_Part_8','Q39_OTHER']\n",
    "\n",
    "df_m = df[MCQ]\n",
    "df_m = df_m.fillna(0)\n",
    "\n",
    "# df[MCQ].sum(axis=1).astype(int)\n",
    "df.insert(39, \"Publicly to Share\", df[MCQ].sum(axis=1).astype(int))\n",
    "df.drop(Q_39,axis=1,inplace=True)"
   ]
  },
  {
   "cell_type": "code",
   "execution_count": 25,
   "id": "57e29af0",
   "metadata": {},
   "outputs": [],
   "source": [
    "# Question 40\n",
    "Q_40 = ['Q40_Part_1','Q40_Part_2','Q40_Part_3','Q40_Part_4','Q40_Part_5',\n",
    "        'Q40_Part_6','Q40_Part_7','Q40_Part_8','Q40_Part_9','Q40_Part_10',\n",
    "        'Q40_Part_11','Q40_OTHER']\n",
    "\n",
    "MCQ = ['Q40_Part_1','Q40_Part_2','Q40_Part_3','Q40_Part_4','Q40_Part_5',\n",
    "       'Q40_Part_6','Q40_Part_7','Q40_Part_8','Q40_Part_9','Q40_Part_10',\n",
    "       'Q40_OTHER']\n",
    "\n",
    "df_m = df[MCQ]\n",
    "df_m = df_m.fillna(0)\n",
    "\n",
    "# df[MCQ].sum(axis=1).astype(int)\n",
    "df.insert(40, \"Courses Platforms\", df[MCQ].sum(axis=1).astype(int))\n",
    "df.drop(Q_40,axis=1,inplace=True)"
   ]
  },
  {
   "cell_type": "code",
   "execution_count": 26,
   "id": "d9e2d2f4",
   "metadata": {},
   "outputs": [],
   "source": [
    "# Question 42\n",
    "Q_42 = ['Q42_Part_1','Q42_Part_2','Q42_Part_3','Q42_Part_4','Q42_Part_5',\n",
    "        'Q42_Part_6','Q42_Part_7','Q42_Part_8','Q42_Part_9','Q42_Part_10',\n",
    "        'Q42_Part_11','Q42_OTHER']\n",
    "\n",
    "MCQ = ['Q42_Part_1','Q42_Part_2','Q42_Part_3','Q42_Part_4','Q42_Part_5',\n",
    "       'Q42_Part_6','Q42_Part_7','Q42_Part_8','Q42_Part_9','Q42_Part_10',\n",
    "       'Q42_OTHER']\n",
    "\n",
    "df_m = df[MCQ]\n",
    "df_m = df_m.fillna(0)\n",
    "\n",
    "# df[MCQ].sum(axis=1).astype(int)\n",
    "df.insert(42, \"Media Sources \", df[MCQ].sum(axis=1).astype(int))\n",
    "df.drop(Q_42,axis=1,inplace=True)"
   ]
  },
  {
   "cell_type": "code",
   "execution_count": 27,
   "id": "8190f059",
   "metadata": {},
   "outputs": [],
   "source": [
    "# Question 27_B\n",
    "Q27_B = ['Q27_B_Part_1','Q27_B_Part_2','Q27_B_Part_3','Q27_B_Part_4','Q27_B_Part_5',\n",
    "         'Q27_B_Part_6','Q27_B_Part_7','Q27_B_Part_8','Q27_B_Part_9','Q27_B_Part_10',\n",
    "         'Q27_B_Part_11','Q27_B_OTHER']\n",
    "\n",
    "MCQ = ['Q27_B_Part_1','Q27_B_Part_2','Q27_B_Part_3','Q27_B_Part_4','Q27_B_Part_5',\n",
    "       'Q27_B_Part_6','Q27_B_Part_7','Q27_B_Part_8','Q27_B_Part_9','Q27_B_Part_10',\n",
    "       'Q27_B_OTHER']\n",
    "\n",
    "df_m = df[MCQ]\n",
    "df_m = df_m.fillna(0)\n",
    "\n",
    "# df[MCQ].sum(axis=1).astype(int)\n",
    "df.insert(43, \"Cloud Computing Platforms (future)\", df[MCQ].sum(axis=1).astype(int))\n",
    "df.drop(Q27_B,axis=1,inplace=True)"
   ]
  },
  {
   "cell_type": "code",
   "execution_count": 28,
   "id": "e3704479",
   "metadata": {},
   "outputs": [],
   "source": [
    "# Question 29_B\n",
    "Q29_B = ['Q29_B_Part_1','Q29_B_Part_2','Q29_B_Part_3','Q29_B_Part_4','Q29_B_OTHER']\n",
    "\n",
    "MCQ = ['Q29_B_Part_1','Q29_B_Part_2','Q29_B_Part_3','Q29_B_OTHER']\n",
    "\n",
    "df_m = df[MCQ]\n",
    "df_m = df_m.fillna(0)\n",
    "\n",
    "# df[MCQ].sum(axis=1).astype(int)\n",
    "df.insert(44, \"Cloud Computing Products (future)\", df[MCQ].sum(axis=1).astype(int))\n",
    "df.drop(Q29_B,axis=1,inplace=True)"
   ]
  },
  {
   "cell_type": "code",
   "execution_count": 29,
   "id": "1f706e8f",
   "metadata": {},
   "outputs": [],
   "source": [
    "# Question 30_B\n",
    "Q30_B = ['Q30_B_Part_1','Q30_B_Part_2','Q30_B_Part_3','Q30_B_Part_4','Q30_B_Part_5',\n",
    "         'Q30_B_Part_6','Q30_B_Part_7','Q30_B_OTHER']\n",
    "\n",
    "MCQ = ['Q30_B_Part_1','Q30_B_Part_2','Q30_B_Part_3','Q30_B_Part_4','Q30_B_Part_5',\n",
    "       'Q30_B_Part_6','Q30_B_OTHER']\n",
    "\n",
    "df_m = df[MCQ]\n",
    "df_m = df_m.fillna(0)\n",
    "\n",
    "# df[MCQ].sum(axis=1).astype(int)\n",
    "df.insert(45, \"Data Storage Products (future)\", df[MCQ].sum(axis=1).astype(int))\n",
    "df.drop(Q30_B,axis=1,inplace=True)"
   ]
  },
  {
   "cell_type": "code",
   "execution_count": 30,
   "id": "6141689d",
   "metadata": {},
   "outputs": [],
   "source": [
    "# Question 31_B\n",
    "Q31_B = ['Q31_B_Part_1','Q31_B_Part_2','Q31_B_Part_3','Q31_B_Part_4','Q31_B_Part_5',\n",
    "         'Q31_B_Part_6','Q31_B_Part_7','Q31_B_Part_8','Q31_B_Part_9','Q31_B_OTHER']\n",
    "\n",
    "MCQ = ['Q31_B_Part_1','Q31_B_Part_2','Q31_B_Part_3','Q31_B_Part_4','Q31_B_Part_5',\n",
    "       'Q31_B_Part_6','Q31_B_Part_7','Q31_B_Part_8','Q31_B_OTHER']\n",
    "\n",
    "df_m = df[MCQ]\n",
    "df_m = df_m.fillna(0)\n",
    "\n",
    "# df[MCQ].sum(axis=1).astype(int)\n",
    "df.insert(46, \"Managed ML Products (future)\", df[MCQ].sum(axis=1).astype(int))\n",
    "df.drop(Q31_B,axis=1,inplace=True)"
   ]
  },
  {
   "cell_type": "code",
   "execution_count": 31,
   "id": "db231e36",
   "metadata": {},
   "outputs": [],
   "source": [
    "# Question 32_B\n",
    "Q32_B = ['Q32_B_Part_1','Q32_B_Part_2','Q32_B_Part_3','Q32_B_Part_4','Q32_B_Part_5',\n",
    "         'Q32_B_Part_6','Q32_B_Part_7','Q32_B_Part_8','Q32_B_Part_9','Q32_B_Part_10',\n",
    "         'Q32_B_Part_11','Q32_B_Part_12','Q32_B_Part_13','Q32_B_Part_14','Q32_B_Part_15',\n",
    "         'Q32_B_Part_16','Q32_B_Part_17','Q32_B_Part_18','Q32_B_Part_19','Q32_B_Part_20',\n",
    "         'Q32_B_OTHER']\n",
    "\n",
    "MCQ = ['Q32_B_Part_1','Q32_B_Part_2','Q32_B_Part_3','Q32_B_Part_4','Q32_B_Part_5',\n",
    "       'Q32_B_Part_6','Q32_B_Part_7','Q32_B_Part_8','Q32_B_Part_9','Q32_B_Part_10',\n",
    "       'Q32_B_Part_11','Q32_B_Part_12','Q32_B_Part_13','Q32_B_Part_14','Q32_B_Part_15',\n",
    "       'Q32_B_Part_16','Q32_B_Part_17','Q32_B_Part_18','Q32_B_Part_19','Q32_B_OTHER']\n",
    "\n",
    "df_m = df[MCQ]\n",
    "df_m = df_m.fillna(0)\n",
    "\n",
    "# df[MCQ].sum(axis=1).astype(int)\n",
    "df.insert(47, \"Big Data Products (future)\", df[MCQ].sum(axis=1).astype(int))\n",
    "df.drop(Q32_B,axis=1,inplace=True)"
   ]
  },
  {
   "cell_type": "code",
   "execution_count": 32,
   "id": "4ccd008b",
   "metadata": {},
   "outputs": [],
   "source": [
    "# Question 34_B\n",
    "Q34_B = ['Q34_B_Part_1','Q34_B_Part_2','Q34_B_Part_3','Q34_B_Part_4','Q34_B_Part_5',\n",
    "         'Q34_B_Part_6','Q34_B_Part_7','Q34_B_Part_8','Q34_B_Part_9','Q34_B_Part_10',\n",
    "         'Q34_B_Part_11','Q34_B_Part_12','Q34_B_Part_13','Q34_B_Part_14','Q34_B_Part_15',\n",
    "         'Q34_B_Part_16','Q34_B_OTHER']\n",
    "\n",
    "MCQ = ['Q34_B_Part_1','Q34_B_Part_2','Q34_B_Part_3','Q34_B_Part_4','Q34_B_Part_5',\n",
    "       'Q34_B_Part_6','Q34_B_Part_7','Q34_B_Part_8','Q34_B_Part_9','Q34_B_Part_10',\n",
    "       'Q34_B_Part_11','Q34_B_Part_12','Q34_B_Part_13','Q34_B_Part_14','Q34_B_Part_15',\n",
    "       'Q34_B_OTHER']\n",
    "\n",
    "df_m = df[MCQ]\n",
    "df_m = df_m.fillna(0)\n",
    "\n",
    "# df[MCQ].sum(axis=1).astype(int)\n",
    "df.insert(48, \"Business Intelligence Tools (future)\", df[MCQ].sum(axis=1).astype(int))\n",
    "df.drop(Q34_B,axis=1,inplace=True)"
   ]
  },
  {
   "cell_type": "code",
   "execution_count": 33,
   "id": "49007f2d",
   "metadata": {},
   "outputs": [],
   "source": [
    "# Question 36_B\n",
    "Q36_B = ['Q36_B_Part_1','Q36_B_Part_2','Q36_B_Part_3','Q36_B_Part_4','Q36_B_Part_5',\n",
    "         'Q36_B_Part_6','Q36_B_Part_7','Q36_B_OTHER']\n",
    "\n",
    "MCQ = ['Q36_B_Part_1','Q36_B_Part_2','Q36_B_Part_3','Q36_B_Part_4','Q36_B_Part_5',\n",
    "       'Q36_B_Part_6','Q36_B_OTHER']\n",
    "\n",
    "df_m = df[MCQ]\n",
    "df_m = df_m.fillna(0)\n",
    "\n",
    "# df[MCQ].sum(axis=1).astype(int)\n",
    "df.insert(49, \"AutoML Tools 1 (future)\", df[MCQ].sum(axis=1).astype(int))\n",
    "df.drop(Q36_B,axis=1,inplace=True)"
   ]
  },
  {
   "cell_type": "code",
   "execution_count": 34,
   "id": "2a0b9cd3",
   "metadata": {},
   "outputs": [],
   "source": [
    "# Question 37_B\n",
    "Q37_B = ['Q37_B_Part_1','Q37_B_Part_2','Q37_B_Part_3','Q37_B_Part_4','Q37_B_Part_5',\n",
    "         'Q37_B_Part_6','Q37_B_Part_7','Q37_B_OTHER']\n",
    "\n",
    "MCQ = ['Q37_B_Part_1','Q37_B_Part_2','Q37_B_Part_3','Q37_B_Part_4','Q37_B_Part_5',\n",
    "       'Q37_B_Part_6','Q37_B_OTHER']\n",
    "\n",
    "df_m = df[MCQ]\n",
    "df_m = df_m.fillna(0)\n",
    "\n",
    "# df[MCQ].sum(axis=1).astype(int)\n",
    "df.insert(50, \"AutoML Tools 2 (future)\", df[MCQ].sum(axis=1).astype(int))\n",
    "df.drop(Q37_B,axis=1,inplace=True)"
   ]
  },
  {
   "cell_type": "code",
   "execution_count": 35,
   "id": "bd681b9e",
   "metadata": {},
   "outputs": [],
   "source": [
    "# Question 38_B\n",
    "Q38_B = ['Q38_B_Part_1','Q38_B_Part_2','Q38_B_Part_3','Q38_B_Part_4','Q38_B_Part_5',\n",
    "         'Q38_B_Part_6','Q38_B_Part_7','Q38_B_Part_8','Q38_B_Part_9','Q38_B_Part_10',\n",
    "         'Q38_B_Part_11','Q38_B_OTHER']\n",
    "\n",
    "MCQ = ['Q38_B_Part_1','Q38_B_Part_2','Q38_B_Part_3','Q38_B_Part_4','Q38_B_Part_5',\n",
    "       'Q38_B_Part_6','Q38_B_Part_7','Q38_B_Part_8','Q38_B_Part_9','Q38_B_Part_10',\n",
    "       'Q38_B_OTHER']\n",
    "\n",
    "df_m = df[MCQ]\n",
    "df_m = df_m.fillna(0)\n",
    "\n",
    "# df[MCQ].sum(axis=1).astype(int)\n",
    "df.insert(51, \"Tools for Help Manage ML Experiments (future)\", df[MCQ].sum(axis=1).astype(int))\n",
    "df.drop(Q38_B,axis=1,inplace=True)"
   ]
  },
  {
   "cell_type": "code",
   "execution_count": 36,
   "id": "029638e2",
   "metadata": {},
   "outputs": [
    {
     "data": {
      "text/html": [
       "<div>\n",
       "<style scoped>\n",
       "    .dataframe tbody tr th:only-of-type {\n",
       "        vertical-align: middle;\n",
       "    }\n",
       "\n",
       "    .dataframe tbody tr th {\n",
       "        vertical-align: top;\n",
       "    }\n",
       "\n",
       "    .dataframe thead th {\n",
       "        text-align: right;\n",
       "    }\n",
       "</style>\n",
       "<table border=\"1\" class=\"dataframe\">\n",
       "  <thead>\n",
       "    <tr style=\"text-align: right;\">\n",
       "      <th></th>\n",
       "      <th>Time from Start to Finish (seconds)</th>\n",
       "      <th>Q1</th>\n",
       "      <th>Q2</th>\n",
       "      <th>Q3</th>\n",
       "      <th>Q4</th>\n",
       "      <th>Q5</th>\n",
       "      <th>Q6</th>\n",
       "      <th>Languages</th>\n",
       "      <th>Q8</th>\n",
       "      <th>IDE</th>\n",
       "      <th>...</th>\n",
       "      <th>Media Sources</th>\n",
       "      <th>Cloud Computing Platforms (future)</th>\n",
       "      <th>Cloud Computing Products (future)</th>\n",
       "      <th>Data Storage Products (future)</th>\n",
       "      <th>Managed ML Products (future)</th>\n",
       "      <th>Big Data Products (future)</th>\n",
       "      <th>Business Intelligence Tools (future)</th>\n",
       "      <th>AutoML Tools 1 (future)</th>\n",
       "      <th>AutoML Tools 2 (future)</th>\n",
       "      <th>Tools for Help Manage ML Experiments (future)</th>\n",
       "    </tr>\n",
       "  </thead>\n",
       "  <tbody>\n",
       "    <tr>\n",
       "      <th>0</th>\n",
       "      <td>910</td>\n",
       "      <td>50-54</td>\n",
       "      <td>Man</td>\n",
       "      <td>India</td>\n",
       "      <td>Bachelor’s degree</td>\n",
       "      <td>Other</td>\n",
       "      <td>5-10 years</td>\n",
       "      <td>0</td>\n",
       "      <td>Python</td>\n",
       "      <td>0</td>\n",
       "      <td>...</td>\n",
       "      <td>0</td>\n",
       "      <td>0</td>\n",
       "      <td>0</td>\n",
       "      <td>0</td>\n",
       "      <td>0</td>\n",
       "      <td>0</td>\n",
       "      <td>0</td>\n",
       "      <td>0</td>\n",
       "      <td>0</td>\n",
       "      <td>0</td>\n",
       "    </tr>\n",
       "    <tr>\n",
       "      <th>1</th>\n",
       "      <td>784</td>\n",
       "      <td>50-54</td>\n",
       "      <td>Man</td>\n",
       "      <td>Indonesia</td>\n",
       "      <td>Master’s degree</td>\n",
       "      <td>Program/Project Manager</td>\n",
       "      <td>20+ years</td>\n",
       "      <td>0</td>\n",
       "      <td>Python</td>\n",
       "      <td>0</td>\n",
       "      <td>...</td>\n",
       "      <td>0</td>\n",
       "      <td>0</td>\n",
       "      <td>0</td>\n",
       "      <td>0</td>\n",
       "      <td>0</td>\n",
       "      <td>0</td>\n",
       "      <td>0</td>\n",
       "      <td>0</td>\n",
       "      <td>0</td>\n",
       "      <td>0</td>\n",
       "    </tr>\n",
       "    <tr>\n",
       "      <th>2</th>\n",
       "      <td>924</td>\n",
       "      <td>22-24</td>\n",
       "      <td>Man</td>\n",
       "      <td>Pakistan</td>\n",
       "      <td>Master’s degree</td>\n",
       "      <td>Software Engineer</td>\n",
       "      <td>1-3 years</td>\n",
       "      <td>0</td>\n",
       "      <td>Python</td>\n",
       "      <td>0</td>\n",
       "      <td>...</td>\n",
       "      <td>0</td>\n",
       "      <td>0</td>\n",
       "      <td>0</td>\n",
       "      <td>0</td>\n",
       "      <td>0</td>\n",
       "      <td>0</td>\n",
       "      <td>0</td>\n",
       "      <td>0</td>\n",
       "      <td>0</td>\n",
       "      <td>0</td>\n",
       "    </tr>\n",
       "    <tr>\n",
       "      <th>3</th>\n",
       "      <td>575</td>\n",
       "      <td>45-49</td>\n",
       "      <td>Man</td>\n",
       "      <td>Mexico</td>\n",
       "      <td>Doctoral degree</td>\n",
       "      <td>Research Scientist</td>\n",
       "      <td>20+ years</td>\n",
       "      <td>0</td>\n",
       "      <td>Python</td>\n",
       "      <td>0</td>\n",
       "      <td>...</td>\n",
       "      <td>0</td>\n",
       "      <td>0</td>\n",
       "      <td>0</td>\n",
       "      <td>0</td>\n",
       "      <td>0</td>\n",
       "      <td>0</td>\n",
       "      <td>0</td>\n",
       "      <td>0</td>\n",
       "      <td>0</td>\n",
       "      <td>0</td>\n",
       "    </tr>\n",
       "    <tr>\n",
       "      <th>4</th>\n",
       "      <td>781</td>\n",
       "      <td>45-49</td>\n",
       "      <td>Man</td>\n",
       "      <td>India</td>\n",
       "      <td>Doctoral degree</td>\n",
       "      <td>Other</td>\n",
       "      <td>&lt; 1 years</td>\n",
       "      <td>0</td>\n",
       "      <td>Python</td>\n",
       "      <td>0</td>\n",
       "      <td>...</td>\n",
       "      <td>0</td>\n",
       "      <td>0</td>\n",
       "      <td>0</td>\n",
       "      <td>0</td>\n",
       "      <td>0</td>\n",
       "      <td>0</td>\n",
       "      <td>0</td>\n",
       "      <td>0</td>\n",
       "      <td>0</td>\n",
       "      <td>0</td>\n",
       "    </tr>\n",
       "  </tbody>\n",
       "</table>\n",
       "<p>5 rows × 52 columns</p>\n",
       "</div>"
      ],
      "text/plain": [
       "   Time from Start to Finish (seconds)     Q1   Q2         Q3  \\\n",
       "0                                  910  50-54  Man      India   \n",
       "1                                  784  50-54  Man  Indonesia   \n",
       "2                                  924  22-24  Man   Pakistan   \n",
       "3                                  575  45-49  Man     Mexico   \n",
       "4                                  781  45-49  Man      India   \n",
       "\n",
       "                  Q4                       Q5          Q6  Languages      Q8  \\\n",
       "0  Bachelor’s degree                    Other  5-10 years          0  Python   \n",
       "1    Master’s degree  Program/Project Manager   20+ years          0  Python   \n",
       "2    Master’s degree        Software Engineer   1-3 years          0  Python   \n",
       "3    Doctoral degree       Research Scientist   20+ years          0  Python   \n",
       "4    Doctoral degree                    Other   < 1 years          0  Python   \n",
       "\n",
       "   IDE  ...  Media Sources  Cloud Computing Platforms (future)  \\\n",
       "0    0  ...               0                                  0   \n",
       "1    0  ...               0                                  0   \n",
       "2    0  ...               0                                  0   \n",
       "3    0  ...               0                                  0   \n",
       "4    0  ...               0                                  0   \n",
       "\n",
       "   Cloud Computing Products (future) Data Storage Products (future)  \\\n",
       "0                                  0                              0   \n",
       "1                                  0                              0   \n",
       "2                                  0                              0   \n",
       "3                                  0                              0   \n",
       "4                                  0                              0   \n",
       "\n",
       "   Managed ML Products (future) Big Data Products (future)  \\\n",
       "0                             0                          0   \n",
       "1                             0                          0   \n",
       "2                             0                          0   \n",
       "3                             0                          0   \n",
       "4                             0                          0   \n",
       "\n",
       "   Business Intelligence Tools (future)  AutoML Tools 1 (future)  \\\n",
       "0                                     0                        0   \n",
       "1                                     0                        0   \n",
       "2                                     0                        0   \n",
       "3                                     0                        0   \n",
       "4                                     0                        0   \n",
       "\n",
       "   AutoML Tools 2 (future)  Tools for Help Manage ML Experiments (future)  \n",
       "0                        0                                              0  \n",
       "1                        0                                              0  \n",
       "2                        0                                              0  \n",
       "3                        0                                              0  \n",
       "4                        0                                              0  \n",
       "\n",
       "[5 rows x 52 columns]"
      ]
     },
     "execution_count": 36,
     "metadata": {},
     "output_type": "execute_result"
    }
   ],
   "source": [
    "df.head()"
   ]
  },
  {
   "cell_type": "markdown",
   "id": "e6b81428",
   "metadata": {},
   "source": [
    "### 1.3 Dealing with NaN values\n",
    "\n",
    "    I detect how many NaN values in the dataset after encoding all MCQ. \n",
    "    \n",
    "    1. For Question 8,11,13,15,26,41 I replace missing values with mode.Because the number of missing values are limited.\n",
    "    \n",
    "    2. For Question 28,33,35, I don't think these three columns are valuable because of enormous missing values in     these columns. So I delete these.\n",
    "    "
   ]
  },
  {
   "cell_type": "code",
   "execution_count": 37,
   "id": "e51b7724",
   "metadata": {},
   "outputs": [
    {
     "data": {
      "text/plain": [
       "Time from Start to Finish (seconds)                  0\n",
       "Q1                                                   0\n",
       "Q2                                                   0\n",
       "Q3                                                   0\n",
       "Q4                                                   0\n",
       "Q5                                                   0\n",
       "Q6                                                   0\n",
       "Languages                                            0\n",
       "Q8                                                 961\n",
       "IDE                                                  0\n",
       "Hosted Notebook Products                             0\n",
       "Q11                                                961\n",
       "Specialized Hardware                                 0\n",
       "Q13                                                961\n",
       "Data Visualization Libraries                         0\n",
       "Q15                                                961\n",
       "Machine Learning Frameworks                          0\n",
       "ML Algorithms                                        0\n",
       "Computer Vision Methods                              0\n",
       "NLP Methods                                          0\n",
       "Q20                                                  0\n",
       "Q21                                                  0\n",
       "Q22                                                  0\n",
       "Q23                                                  0\n",
       "Important Activities                                 0\n",
       "Q25                                                  0\n",
       "Q26                                                208\n",
       "Cloud Computing Platforms                            0\n",
       "Q28                                              12264\n",
       "Cloud Computing Products                             0\n",
       "Data Storage Products                                0\n",
       "Managed ML Products                                  0\n",
       "Big Data Products                                    0\n",
       "Q33                                              10735\n",
       "Business Intelligence Tools                          0\n",
       "Q35                                              13154\n",
       "AutoML Tools 1                                       0\n",
       "AutoML Tools 2                                       0\n",
       "Tools for Help Manage ML Experiments                 0\n",
       "Publicly to Share                                    0\n",
       "Courses Platforms                                    0\n",
       "Q41                                               1965\n",
       "Media Sources                                        0\n",
       "Cloud Computing Platforms (future)                   0\n",
       "Cloud Computing Products (future)                    0\n",
       "Data Storage Products (future)                       0\n",
       "Managed ML Products (future)                         0\n",
       "Big Data Products (future)                           0\n",
       "Business Intelligence Tools (future)                 0\n",
       "AutoML Tools 1 (future)                              0\n",
       "AutoML Tools 2 (future)                              0\n",
       "Tools for Help Manage ML Experiments (future)        0\n",
       "dtype: int64"
      ]
     },
     "execution_count": 37,
     "metadata": {},
     "output_type": "execute_result"
    }
   ],
   "source": [
    "df.isna().sum()"
   ]
  },
  {
   "cell_type": "code",
   "execution_count": 38,
   "id": "91f68eea",
   "metadata": {},
   "outputs": [],
   "source": [
    "# Question 8&11&13&15&26&41\n",
    "df['Q8'] = df['Q8'].fillna('Python')\n",
    "df.rename(columns = {'Q8':'Recommend Language'}, inplace = True)\n",
    "\n",
    "df['Q11'] = df['Q11'].fillna('A laptop')\n",
    "df.rename(columns = {'Q11':'Type of Computing Platform'}, inplace = True)\n",
    "\n",
    "df['Q13'] = df['Q13'].fillna('Never')\n",
    "df.rename(columns = {'Q13':'Times of using TPU'}, inplace = True)\n",
    "\n",
    "df['Q15'] = df['Q15'].fillna('Under 1 year')\n",
    "df.rename(columns = {'Q15':'Years of using ML Methods'}, inplace = True)\n",
    "\n",
    "df['Q26'] = df['Q26'].fillna('$0 ($USD)')\n",
    "df.rename(columns = {'Q26':'Budgets Spent on ML Service'}, inplace = True)\n",
    "\n",
    "df['Q41'] = df['Q41'].fillna('Local development environments (RStudio, JupyterLab, etc.)')\n",
    "df.rename(columns = {'Q41':'Primary Tool'}, inplace = True)"
   ]
  },
  {
   "cell_type": "code",
   "execution_count": 39,
   "id": "bd3bfd72",
   "metadata": {},
   "outputs": [],
   "source": [
    "# Question 28&33&35\n",
    "df.drop(['Q28','Q33', 'Q35'], axis=1, inplace=True)"
   ]
  },
  {
   "cell_type": "markdown",
   "id": "4771495a",
   "metadata": {},
   "source": [
    "### 1.4 Encoding with other variables\n",
    "    * Because the Question 25 is target value, thus I moved the position of Question 25 to the most right side. "
   ]
  },
  {
   "cell_type": "code",
   "execution_count": 40,
   "id": "6784126b",
   "metadata": {},
   "outputs": [],
   "source": [
    "# Question 25\n",
    "SalarySer = df['Q25']\n",
    "df.drop(['Q25'], axis=1, inplace=True)\n",
    "df['Salary'] = SalarySer"
   ]
  },
  {
   "cell_type": "code",
   "execution_count": 41,
   "id": "12fbaacf",
   "metadata": {},
   "outputs": [
    {
     "data": {
      "text/plain": [
       "array([  30000,   70000,    1000,   40000,   20000,   80000,    3000,\n",
       "         15000,    7500,   25000,    2000,  125000,   10000,    5000,\n",
       "         50000,   60000,    4000,  500000,  250000,  150000,  300000,\n",
       "         90000,  100000,  200000, 1000000])"
      ]
     },
     "execution_count": 41,
     "metadata": {},
     "output_type": "execute_result"
    }
   ],
   "source": [
    "df['Salary'].unique()"
   ]
  },
  {
   "cell_type": "code",
   "execution_count": 42,
   "id": "0ce6a7e3",
   "metadata": {},
   "outputs": [],
   "source": [
    "# Question 1\n",
    "\n",
    "# df['Q1'].unique()\n",
    "# array(['50-54', '22-24', '45-49', '30-34', '40-44', '35-39', '18-21','70+', '25-29', '55-59', '60-69'], dtype=object)\n",
    "\n",
    "df.rename(columns = {'Q1':'Age'}, inplace = True)"
   ]
  },
  {
   "cell_type": "markdown",
   "id": "35007c77",
   "metadata": {},
   "source": [
    "     The question 2 is about gender, there are five responses, including Man,Woman,Prefer not to say,Nonbinary,Prefer to self-describe. Becuase the latter three categories only account a small portion. So I combined these three to a new category called 'Gender minority'.\n",
    "     \n",
    "     * I encode Man as 0, Woman as 1, Gender minority as 2."
   ]
  },
  {
   "cell_type": "code",
   "execution_count": 43,
   "id": "21c1afe8",
   "metadata": {},
   "outputs": [],
   "source": [
    "# Question 2\n",
    "\n",
    "# Integrate those whose gender is other than man and woman to 'Gender minority'.\n",
    "df['Q2'] = np.where((df['Q2'] == 'Nonbinary'), 'Gender minority', df['Q2'])\n",
    "df['Q2'] = np.where((df['Q2'] == 'Prefer not to say'), 'Gender minority', df['Q2'])\n",
    "df['Q2'] = np.where((df['Q2'] == 'Prefer to self-describe'), 'Gender minority', df['Q2'])\n",
    "\n",
    "df.rename(columns = {'Q2':'Gender'}, inplace = True)"
   ]
  },
  {
   "cell_type": "code",
   "execution_count": 44,
   "id": "98bfdde1",
   "metadata": {},
   "outputs": [],
   "source": [
    "# Question 3&4&5&6\n",
    "df.rename(columns = {'Q3':'Country'}, inplace = True)\n",
    "df.rename(columns = {'Q4':'Education'}, inplace = True)\n",
    "df.rename(columns = {'Q5':'Title'}, inplace = True)\n",
    "df.rename(columns = {'Q6':'Experience'}, inplace = True)"
   ]
  },
  {
   "cell_type": "code",
   "execution_count": 45,
   "id": "e9430809",
   "metadata": {},
   "outputs": [
    {
     "data": {
      "text/html": [
       "<div>\n",
       "<style scoped>\n",
       "    .dataframe tbody tr th:only-of-type {\n",
       "        vertical-align: middle;\n",
       "    }\n",
       "\n",
       "    .dataframe tbody tr th {\n",
       "        vertical-align: top;\n",
       "    }\n",
       "\n",
       "    .dataframe thead th {\n",
       "        text-align: right;\n",
       "    }\n",
       "</style>\n",
       "<table border=\"1\" class=\"dataframe\">\n",
       "  <thead>\n",
       "    <tr style=\"text-align: right;\">\n",
       "      <th></th>\n",
       "      <th>Time from Start to Finish (seconds)</th>\n",
       "      <th>Age</th>\n",
       "      <th>Gender</th>\n",
       "      <th>Country</th>\n",
       "      <th>Education</th>\n",
       "      <th>Title</th>\n",
       "      <th>Experience</th>\n",
       "      <th>Languages</th>\n",
       "      <th>Recommend Language</th>\n",
       "      <th>IDE</th>\n",
       "      <th>...</th>\n",
       "      <th>Cloud Computing Platforms (future)</th>\n",
       "      <th>Cloud Computing Products (future)</th>\n",
       "      <th>Data Storage Products (future)</th>\n",
       "      <th>Managed ML Products (future)</th>\n",
       "      <th>Big Data Products (future)</th>\n",
       "      <th>Business Intelligence Tools (future)</th>\n",
       "      <th>AutoML Tools 1 (future)</th>\n",
       "      <th>AutoML Tools 2 (future)</th>\n",
       "      <th>Tools for Help Manage ML Experiments (future)</th>\n",
       "      <th>Salary</th>\n",
       "    </tr>\n",
       "  </thead>\n",
       "  <tbody>\n",
       "    <tr>\n",
       "      <th>0</th>\n",
       "      <td>910</td>\n",
       "      <td>50-54</td>\n",
       "      <td>Man</td>\n",
       "      <td>India</td>\n",
       "      <td>Bachelor’s degree</td>\n",
       "      <td>Other</td>\n",
       "      <td>5-10 years</td>\n",
       "      <td>0</td>\n",
       "      <td>Python</td>\n",
       "      <td>0</td>\n",
       "      <td>...</td>\n",
       "      <td>0</td>\n",
       "      <td>0</td>\n",
       "      <td>0</td>\n",
       "      <td>0</td>\n",
       "      <td>0</td>\n",
       "      <td>0</td>\n",
       "      <td>0</td>\n",
       "      <td>0</td>\n",
       "      <td>0</td>\n",
       "      <td>30000</td>\n",
       "    </tr>\n",
       "    <tr>\n",
       "      <th>1</th>\n",
       "      <td>784</td>\n",
       "      <td>50-54</td>\n",
       "      <td>Man</td>\n",
       "      <td>Indonesia</td>\n",
       "      <td>Master’s degree</td>\n",
       "      <td>Program/Project Manager</td>\n",
       "      <td>20+ years</td>\n",
       "      <td>0</td>\n",
       "      <td>Python</td>\n",
       "      <td>0</td>\n",
       "      <td>...</td>\n",
       "      <td>0</td>\n",
       "      <td>0</td>\n",
       "      <td>0</td>\n",
       "      <td>0</td>\n",
       "      <td>0</td>\n",
       "      <td>0</td>\n",
       "      <td>0</td>\n",
       "      <td>0</td>\n",
       "      <td>0</td>\n",
       "      <td>70000</td>\n",
       "    </tr>\n",
       "    <tr>\n",
       "      <th>2</th>\n",
       "      <td>924</td>\n",
       "      <td>22-24</td>\n",
       "      <td>Man</td>\n",
       "      <td>Pakistan</td>\n",
       "      <td>Master’s degree</td>\n",
       "      <td>Software Engineer</td>\n",
       "      <td>1-3 years</td>\n",
       "      <td>0</td>\n",
       "      <td>Python</td>\n",
       "      <td>0</td>\n",
       "      <td>...</td>\n",
       "      <td>0</td>\n",
       "      <td>0</td>\n",
       "      <td>0</td>\n",
       "      <td>0</td>\n",
       "      <td>0</td>\n",
       "      <td>0</td>\n",
       "      <td>0</td>\n",
       "      <td>0</td>\n",
       "      <td>0</td>\n",
       "      <td>1000</td>\n",
       "    </tr>\n",
       "    <tr>\n",
       "      <th>3</th>\n",
       "      <td>575</td>\n",
       "      <td>45-49</td>\n",
       "      <td>Man</td>\n",
       "      <td>Mexico</td>\n",
       "      <td>Doctoral degree</td>\n",
       "      <td>Research Scientist</td>\n",
       "      <td>20+ years</td>\n",
       "      <td>0</td>\n",
       "      <td>Python</td>\n",
       "      <td>0</td>\n",
       "      <td>...</td>\n",
       "      <td>0</td>\n",
       "      <td>0</td>\n",
       "      <td>0</td>\n",
       "      <td>0</td>\n",
       "      <td>0</td>\n",
       "      <td>0</td>\n",
       "      <td>0</td>\n",
       "      <td>0</td>\n",
       "      <td>0</td>\n",
       "      <td>40000</td>\n",
       "    </tr>\n",
       "    <tr>\n",
       "      <th>4</th>\n",
       "      <td>781</td>\n",
       "      <td>45-49</td>\n",
       "      <td>Man</td>\n",
       "      <td>India</td>\n",
       "      <td>Doctoral degree</td>\n",
       "      <td>Other</td>\n",
       "      <td>&lt; 1 years</td>\n",
       "      <td>0</td>\n",
       "      <td>Python</td>\n",
       "      <td>0</td>\n",
       "      <td>...</td>\n",
       "      <td>0</td>\n",
       "      <td>0</td>\n",
       "      <td>0</td>\n",
       "      <td>0</td>\n",
       "      <td>0</td>\n",
       "      <td>0</td>\n",
       "      <td>0</td>\n",
       "      <td>0</td>\n",
       "      <td>0</td>\n",
       "      <td>40000</td>\n",
       "    </tr>\n",
       "    <tr>\n",
       "      <th>...</th>\n",
       "      <td>...</td>\n",
       "      <td>...</td>\n",
       "      <td>...</td>\n",
       "      <td>...</td>\n",
       "      <td>...</td>\n",
       "      <td>...</td>\n",
       "      <td>...</td>\n",
       "      <td>...</td>\n",
       "      <td>...</td>\n",
       "      <td>...</td>\n",
       "      <td>...</td>\n",
       "      <td>...</td>\n",
       "      <td>...</td>\n",
       "      <td>...</td>\n",
       "      <td>...</td>\n",
       "      <td>...</td>\n",
       "      <td>...</td>\n",
       "      <td>...</td>\n",
       "      <td>...</td>\n",
       "      <td>...</td>\n",
       "      <td>...</td>\n",
       "    </tr>\n",
       "    <tr>\n",
       "      <th>15386</th>\n",
       "      <td>323</td>\n",
       "      <td>30-34</td>\n",
       "      <td>Man</td>\n",
       "      <td>India</td>\n",
       "      <td>Bachelor’s degree</td>\n",
       "      <td>Data Analyst</td>\n",
       "      <td>1-3 years</td>\n",
       "      <td>0</td>\n",
       "      <td>Python</td>\n",
       "      <td>0</td>\n",
       "      <td>...</td>\n",
       "      <td>0</td>\n",
       "      <td>0</td>\n",
       "      <td>0</td>\n",
       "      <td>0</td>\n",
       "      <td>0</td>\n",
       "      <td>0</td>\n",
       "      <td>0</td>\n",
       "      <td>0</td>\n",
       "      <td>0</td>\n",
       "      <td>4000</td>\n",
       "    </tr>\n",
       "    <tr>\n",
       "      <th>15387</th>\n",
       "      <td>910</td>\n",
       "      <td>35-39</td>\n",
       "      <td>Man</td>\n",
       "      <td>South Korea</td>\n",
       "      <td>Bachelor’s degree</td>\n",
       "      <td>Software Engineer</td>\n",
       "      <td>5-10 years</td>\n",
       "      <td>0</td>\n",
       "      <td>Python</td>\n",
       "      <td>0</td>\n",
       "      <td>...</td>\n",
       "      <td>0</td>\n",
       "      <td>0</td>\n",
       "      <td>0</td>\n",
       "      <td>0</td>\n",
       "      <td>0</td>\n",
       "      <td>0</td>\n",
       "      <td>0</td>\n",
       "      <td>0</td>\n",
       "      <td>0</td>\n",
       "      <td>90000</td>\n",
       "    </tr>\n",
       "    <tr>\n",
       "      <th>15388</th>\n",
       "      <td>1756</td>\n",
       "      <td>30-34</td>\n",
       "      <td>Man</td>\n",
       "      <td>Egypt</td>\n",
       "      <td>Bachelor’s degree</td>\n",
       "      <td>Data Analyst</td>\n",
       "      <td>1-3 years</td>\n",
       "      <td>0</td>\n",
       "      <td>Python</td>\n",
       "      <td>0</td>\n",
       "      <td>...</td>\n",
       "      <td>0</td>\n",
       "      <td>0</td>\n",
       "      <td>0</td>\n",
       "      <td>0</td>\n",
       "      <td>0</td>\n",
       "      <td>0</td>\n",
       "      <td>0</td>\n",
       "      <td>0</td>\n",
       "      <td>0</td>\n",
       "      <td>20000</td>\n",
       "    </tr>\n",
       "    <tr>\n",
       "      <th>15389</th>\n",
       "      <td>494</td>\n",
       "      <td>50-54</td>\n",
       "      <td>Man</td>\n",
       "      <td>Sweden</td>\n",
       "      <td>Doctoral degree</td>\n",
       "      <td>Research Scientist</td>\n",
       "      <td>I have never written code</td>\n",
       "      <td>0</td>\n",
       "      <td>Python</td>\n",
       "      <td>0</td>\n",
       "      <td>...</td>\n",
       "      <td>0</td>\n",
       "      <td>0</td>\n",
       "      <td>0</td>\n",
       "      <td>0</td>\n",
       "      <td>0</td>\n",
       "      <td>0</td>\n",
       "      <td>0</td>\n",
       "      <td>0</td>\n",
       "      <td>0</td>\n",
       "      <td>1000</td>\n",
       "    </tr>\n",
       "    <tr>\n",
       "      <th>15390</th>\n",
       "      <td>255</td>\n",
       "      <td>18-21</td>\n",
       "      <td>Man</td>\n",
       "      <td>India</td>\n",
       "      <td>Bachelor’s degree</td>\n",
       "      <td>Business Analyst</td>\n",
       "      <td>I have never written code</td>\n",
       "      <td>0</td>\n",
       "      <td>Python</td>\n",
       "      <td>0</td>\n",
       "      <td>...</td>\n",
       "      <td>0</td>\n",
       "      <td>0</td>\n",
       "      <td>0</td>\n",
       "      <td>0</td>\n",
       "      <td>0</td>\n",
       "      <td>0</td>\n",
       "      <td>0</td>\n",
       "      <td>0</td>\n",
       "      <td>0</td>\n",
       "      <td>1000</td>\n",
       "    </tr>\n",
       "  </tbody>\n",
       "</table>\n",
       "<p>15391 rows × 49 columns</p>\n",
       "</div>"
      ],
      "text/plain": [
       "       Time from Start to Finish (seconds)    Age Gender      Country  \\\n",
       "0                                      910  50-54    Man        India   \n",
       "1                                      784  50-54    Man    Indonesia   \n",
       "2                                      924  22-24    Man     Pakistan   \n",
       "3                                      575  45-49    Man       Mexico   \n",
       "4                                      781  45-49    Man        India   \n",
       "...                                    ...    ...    ...          ...   \n",
       "15386                                  323  30-34    Man        India   \n",
       "15387                                  910  35-39    Man  South Korea   \n",
       "15388                                 1756  30-34    Man        Egypt   \n",
       "15389                                  494  50-54    Man       Sweden   \n",
       "15390                                  255  18-21    Man        India   \n",
       "\n",
       "               Education                    Title                 Experience  \\\n",
       "0      Bachelor’s degree                    Other                 5-10 years   \n",
       "1        Master’s degree  Program/Project Manager                  20+ years   \n",
       "2        Master’s degree        Software Engineer                  1-3 years   \n",
       "3        Doctoral degree       Research Scientist                  20+ years   \n",
       "4        Doctoral degree                    Other                  < 1 years   \n",
       "...                  ...                      ...                        ...   \n",
       "15386  Bachelor’s degree             Data Analyst                  1-3 years   \n",
       "15387  Bachelor’s degree        Software Engineer                 5-10 years   \n",
       "15388  Bachelor’s degree             Data Analyst                  1-3 years   \n",
       "15389    Doctoral degree       Research Scientist  I have never written code   \n",
       "15390  Bachelor’s degree         Business Analyst  I have never written code   \n",
       "\n",
       "       Languages Recommend Language  IDE  ...  \\\n",
       "0              0             Python    0  ...   \n",
       "1              0             Python    0  ...   \n",
       "2              0             Python    0  ...   \n",
       "3              0             Python    0  ...   \n",
       "4              0             Python    0  ...   \n",
       "...          ...                ...  ...  ...   \n",
       "15386          0             Python    0  ...   \n",
       "15387          0             Python    0  ...   \n",
       "15388          0             Python    0  ...   \n",
       "15389          0             Python    0  ...   \n",
       "15390          0             Python    0  ...   \n",
       "\n",
       "       Cloud Computing Platforms (future) Cloud Computing Products (future)  \\\n",
       "0                                       0                                 0   \n",
       "1                                       0                                 0   \n",
       "2                                       0                                 0   \n",
       "3                                       0                                 0   \n",
       "4                                       0                                 0   \n",
       "...                                   ...                               ...   \n",
       "15386                                   0                                 0   \n",
       "15387                                   0                                 0   \n",
       "15388                                   0                                 0   \n",
       "15389                                   0                                 0   \n",
       "15390                                   0                                 0   \n",
       "\n",
       "       Data Storage Products (future) Managed ML Products (future)  \\\n",
       "0                                   0                            0   \n",
       "1                                   0                            0   \n",
       "2                                   0                            0   \n",
       "3                                   0                            0   \n",
       "4                                   0                            0   \n",
       "...                               ...                          ...   \n",
       "15386                               0                            0   \n",
       "15387                               0                            0   \n",
       "15388                               0                            0   \n",
       "15389                               0                            0   \n",
       "15390                               0                            0   \n",
       "\n",
       "       Big Data Products (future) Business Intelligence Tools (future)  \\\n",
       "0                               0                                    0   \n",
       "1                               0                                    0   \n",
       "2                               0                                    0   \n",
       "3                               0                                    0   \n",
       "4                               0                                    0   \n",
       "...                           ...                                  ...   \n",
       "15386                           0                                    0   \n",
       "15387                           0                                    0   \n",
       "15388                           0                                    0   \n",
       "15389                           0                                    0   \n",
       "15390                           0                                    0   \n",
       "\n",
       "       AutoML Tools 1 (future)  AutoML Tools 2 (future)  \\\n",
       "0                            0                        0   \n",
       "1                            0                        0   \n",
       "2                            0                        0   \n",
       "3                            0                        0   \n",
       "4                            0                        0   \n",
       "...                        ...                      ...   \n",
       "15386                        0                        0   \n",
       "15387                        0                        0   \n",
       "15388                        0                        0   \n",
       "15389                        0                        0   \n",
       "15390                        0                        0   \n",
       "\n",
       "       Tools for Help Manage ML Experiments (future)  Salary  \n",
       "0                                                  0   30000  \n",
       "1                                                  0   70000  \n",
       "2                                                  0    1000  \n",
       "3                                                  0   40000  \n",
       "4                                                  0   40000  \n",
       "...                                              ...     ...  \n",
       "15386                                              0    4000  \n",
       "15387                                              0   90000  \n",
       "15388                                              0   20000  \n",
       "15389                                              0    1000  \n",
       "15390                                              0    1000  \n",
       "\n",
       "[15391 rows x 49 columns]"
      ]
     },
     "execution_count": 45,
     "metadata": {},
     "output_type": "execute_result"
    }
   ],
   "source": [
    "## cleaning dataset\n",
    "df"
   ]
  },
  {
   "cell_type": "markdown",
   "id": "e1673c36",
   "metadata": {},
   "source": [
    "## 2. Exploratory Data Analysis"
   ]
  },
  {
   "cell_type": "markdown",
   "id": "6cd69b0f",
   "metadata": {},
   "source": [
    "    After encoding all variables, I finished the step of cleaning dataset. Thus, the cleaning dataset shows below...\n",
    " \n",
    "### Q.1\n",
    "    [3pts] Perform exploratory data analysis to analyze the survey dataset and to summarize its main\n",
    "    characteristics. Present 3 graphical figures that represent different trends in the data. For your\n",
    "    explanatory data analysis, you can consider Country, Age, Education, Professional Experience, and\n",
    "    Salary.\n"
   ]
  },
  {
   "cell_type": "code",
   "execution_count": 46,
   "id": "993b7c44",
   "metadata": {},
   "outputs": [
    {
     "data": {
      "text/plain": [
       "Man                12642\n",
       "Woman               2482\n",
       "Gender minority      267\n",
       "Name: Gender, dtype: int64"
      ]
     },
     "execution_count": 46,
     "metadata": {},
     "output_type": "execute_result"
    }
   ],
   "source": [
    "df['Gender'].value_counts()"
   ]
  },
  {
   "cell_type": "code",
   "execution_count": 47,
   "id": "1d1b3290",
   "metadata": {},
   "outputs": [
    {
     "name": "stdout",
     "output_type": "stream",
     "text": [
      "The percentage of Man is 0.8214,Woman is 0.1613 and Gender minority is 0.0173\n"
     ]
    }
   ],
   "source": [
    "Man_per = round((12642/(12642+2482+267)),4)\n",
    "Woman_per = round((2482/(12642+2482+267)),4)\n",
    "GM_per = round((267/(12642+2482+267)),4)\n",
    "\n",
    "print(f'The percentage of Man is {Man_per},Woman is {Woman_per} and Gender minority is {GM_per}')"
   ]
  },
  {
   "cell_type": "markdown",
   "id": "8d7783be",
   "metadata": {},
   "source": [
    "#### 1.1 Education level"
   ]
  },
  {
   "cell_type": "code",
   "execution_count": 48,
   "id": "1651fb5f",
   "metadata": {},
   "outputs": [
    {
     "data": {
      "text/html": [
       "<div>\n",
       "<style scoped>\n",
       "    .dataframe tbody tr th:only-of-type {\n",
       "        vertical-align: middle;\n",
       "    }\n",
       "\n",
       "    .dataframe tbody tr th {\n",
       "        vertical-align: top;\n",
       "    }\n",
       "\n",
       "    .dataframe thead th {\n",
       "        text-align: right;\n",
       "    }\n",
       "</style>\n",
       "<table border=\"1\" class=\"dataframe\">\n",
       "  <thead>\n",
       "    <tr style=\"text-align: right;\">\n",
       "      <th>Education</th>\n",
       "      <th>Bachelor’s degree</th>\n",
       "      <th>Doctoral degree</th>\n",
       "      <th>I prefer not to answer</th>\n",
       "      <th>Master’s degree</th>\n",
       "      <th>No formal education past high school</th>\n",
       "      <th>Professional doctorate</th>\n",
       "      <th>Some college/university study without earning a bachelor’s degree</th>\n",
       "    </tr>\n",
       "    <tr>\n",
       "      <th>Gender</th>\n",
       "      <th></th>\n",
       "      <th></th>\n",
       "      <th></th>\n",
       "      <th></th>\n",
       "      <th></th>\n",
       "      <th></th>\n",
       "      <th></th>\n",
       "    </tr>\n",
       "  </thead>\n",
       "  <tbody>\n",
       "    <tr>\n",
       "      <th>Gender minority</th>\n",
       "      <td>55381.36</td>\n",
       "      <td>91588.89</td>\n",
       "      <td>119847.83</td>\n",
       "      <td>82198.28</td>\n",
       "      <td>214400.00</td>\n",
       "      <td>216333.33</td>\n",
       "      <td>22230.77</td>\n",
       "    </tr>\n",
       "    <tr>\n",
       "      <th>Man</th>\n",
       "      <td>37394.30</td>\n",
       "      <td>75505.36</td>\n",
       "      <td>32386.83</td>\n",
       "      <td>54950.23</td>\n",
       "      <td>34975.61</td>\n",
       "      <td>68952.91</td>\n",
       "      <td>43999.22</td>\n",
       "    </tr>\n",
       "    <tr>\n",
       "      <th>Woman</th>\n",
       "      <td>23524.93</td>\n",
       "      <td>46664.16</td>\n",
       "      <td>11669.12</td>\n",
       "      <td>38769.77</td>\n",
       "      <td>26083.33</td>\n",
       "      <td>47385.25</td>\n",
       "      <td>31338.54</td>\n",
       "    </tr>\n",
       "  </tbody>\n",
       "</table>\n",
       "</div>"
      ],
      "text/plain": [
       "Education        Bachelor’s degree  Doctoral degree  I prefer not to answer  \\\n",
       "Gender                                                                        \n",
       "Gender minority           55381.36         91588.89               119847.83   \n",
       "Man                       37394.30         75505.36                32386.83   \n",
       "Woman                     23524.93         46664.16                11669.12   \n",
       "\n",
       "Education        Master’s degree  No formal education past high school  \\\n",
       "Gender                                                                   \n",
       "Gender minority         82198.28                             214400.00   \n",
       "Man                     54950.23                              34975.61   \n",
       "Woman                   38769.77                              26083.33   \n",
       "\n",
       "Education        Professional doctorate  \\\n",
       "Gender                                    \n",
       "Gender minority               216333.33   \n",
       "Man                            68952.91   \n",
       "Woman                          47385.25   \n",
       "\n",
       "Education        Some college/university study without earning a bachelor’s degree  \n",
       "Gender                                                                              \n",
       "Gender minority                                           22230.77                  \n",
       "Man                                                       43999.22                  \n",
       "Woman                                                     31338.54                  "
      ]
     },
     "execution_count": 48,
     "metadata": {},
     "output_type": "execute_result"
    }
   ],
   "source": [
    "# Education level\n",
    "df_edu = df.groupby([\"Education\",'Gender']).mean().Salary.unstack(0)\n",
    "df_edu.round(2)\n",
    "\n",
    "# plt.savefig('f5.png',transparent = True)"
   ]
  },
  {
   "cell_type": "code",
   "execution_count": 49,
   "id": "5e189e2f",
   "metadata": {},
   "outputs": [
    {
     "data": {
      "image/png": "[encoded data removed]",
      "text/plain": [
       "<Figure size 720x432 with 1 Axes>"
      ]
     },
     "metadata": {
      "needs_background": "light"
     },
     "output_type": "display_data"
    }
   ],
   "source": [
    "# Plot\n",
    "pos = list(range(len(df_edu['Bachelor’s degree'])))\n",
    "pos\n",
    "\n",
    "width = 0.1\n",
    "\n",
    "# ploting the bars\n",
    "fig, ax = plt.subplots(figsize = (10,6))\n",
    "\n",
    "#1.\n",
    "plt.bar(pos,df_edu['Bachelor’s degree'],width,alpha=0.5,color='#FFC8B4')\n",
    "\n",
    "#2.\n",
    "plt.bar([p+width for p in pos],df_edu['Doctoral degree'],width,alpha=0.5,color='#FFA488')\n",
    "\n",
    "#3.\n",
    "plt.bar([p+2*width for p in pos],df_edu['I prefer not to answer'],width,alpha=0.5,color='#FF7744')\n",
    "\n",
    "#4.\n",
    "plt.bar([p+3*width for p in pos],df_edu['Master’s degree'],width,alpha=0.5,color='#FF5511')\n",
    "\n",
    "#5.\n",
    "plt.bar([p+4*width for p in pos],df_edu['Professional doctorate'],width,alpha=0.5,color='#E63F00')\n",
    "\n",
    "#6.\n",
    "plt.bar([p+5*width for p in pos],df_edu['Some college/university study without earning a bachelor’s degree'],width,alpha=0.5,color='#C63300')\n",
    "\n",
    "\n",
    "\n",
    "\n",
    "ax.set_ylabel('Average Salary') \n",
    "ax.set_title('Average Salary by Education Level Based on Different Gender')\n",
    "ax.set_xticks([p+2*width for p in pos])\n",
    "ax.set_xticklabels(df_edu.index)\n",
    "\n",
    "plt.xlim(min(pos)-width,max(pos)+6*width)\n",
    "plt.ylim(0,250000)\n",
    "\n",
    "plt.legend(['Bachelor’s degree','Doctoral degree','I prefer not to answer','Master’s degree','Professional doctorate','Some college/university study without earning a bachelor’s degree'],loc = 'upper right')\n",
    "plt.grid()\n",
    "plt.savefig('f6.png',transparent = True)\n",
    "plt.show()"
   ]
  },
  {
   "cell_type": "code",
   "execution_count": 50,
   "id": "c3b644c3",
   "metadata": {},
   "outputs": [
    {
     "data": {
      "image/png": "[encoded data removed]",
      "text/plain": [
       "<Figure size 720x432 with 1 Axes>"
      ]
     },
     "metadata": {
      "needs_background": "light"
     },
     "output_type": "display_data"
    }
   ],
   "source": [
    "# plot the average salary categorized by education level\n",
    "# use groupby command to group by the dataframe by education and visualiza the result using\n",
    "# horizontal bar plot in a descending order\n",
    "plt.figure(figsize=(10,6))\n",
    "df_groupby_education = df.groupby(['Education']).mean()\n",
    "sort_mean_salary_byeducation = df_groupby_education.Salary.sort_values(ascending=True)\n",
    "sort_mean_salary_byeducation.plot(kind = \"barh\",alpha=0.5,color='#FFAA33')\n",
    "plt.xlabel('Salary')\n",
    "plt.ylabel('Education Level')\n",
    "plt.title(\"Average Salary by Education Level\")\n",
    "plt.grid()\n",
    "plt.savefig('f3.png',transparent = True)\n",
    "plt.show()"
   ]
  },
  {
   "cell_type": "markdown",
   "id": "3e13c027",
   "metadata": {},
   "source": [
    "#### 1.2 Years of Professional Experienece"
   ]
  },
  {
   "cell_type": "code",
   "execution_count": 51,
   "id": "ddec29a5",
   "metadata": {},
   "outputs": [
    {
     "data": {
      "text/html": [
       "<div>\n",
       "<style scoped>\n",
       "    .dataframe tbody tr th:only-of-type {\n",
       "        vertical-align: middle;\n",
       "    }\n",
       "\n",
       "    .dataframe tbody tr th {\n",
       "        vertical-align: top;\n",
       "    }\n",
       "\n",
       "    .dataframe thead th {\n",
       "        text-align: right;\n",
       "    }\n",
       "</style>\n",
       "<table border=\"1\" class=\"dataframe\">\n",
       "  <thead>\n",
       "    <tr style=\"text-align: right;\">\n",
       "      <th>Experience</th>\n",
       "      <th>1-3 years</th>\n",
       "      <th>10-20 years</th>\n",
       "      <th>20+ years</th>\n",
       "      <th>3-5 years</th>\n",
       "      <th>5-10 years</th>\n",
       "      <th>&lt; 1 years</th>\n",
       "      <th>I have never written code</th>\n",
       "    </tr>\n",
       "    <tr>\n",
       "      <th>Gender</th>\n",
       "      <th></th>\n",
       "      <th></th>\n",
       "      <th></th>\n",
       "      <th></th>\n",
       "      <th></th>\n",
       "      <th></th>\n",
       "      <th></th>\n",
       "    </tr>\n",
       "  </thead>\n",
       "  <tbody>\n",
       "    <tr>\n",
       "      <th>Gender minority</th>\n",
       "      <td>41905.66</td>\n",
       "      <td>73166.67</td>\n",
       "      <td>133829.27</td>\n",
       "      <td>78841.46</td>\n",
       "      <td>125894.23</td>\n",
       "      <td>23267.86</td>\n",
       "      <td>97937.50</td>\n",
       "    </tr>\n",
       "    <tr>\n",
       "      <th>Man</th>\n",
       "      <td>29037.55</td>\n",
       "      <td>85957.47</td>\n",
       "      <td>107050.00</td>\n",
       "      <td>41105.76</td>\n",
       "      <td>62538.85</td>\n",
       "      <td>22540.01</td>\n",
       "      <td>26448.91</td>\n",
       "    </tr>\n",
       "    <tr>\n",
       "      <th>Woman</th>\n",
       "      <td>20479.33</td>\n",
       "      <td>66486.55</td>\n",
       "      <td>75792.68</td>\n",
       "      <td>35363.05</td>\n",
       "      <td>50103.86</td>\n",
       "      <td>22803.06</td>\n",
       "      <td>26494.23</td>\n",
       "    </tr>\n",
       "  </tbody>\n",
       "</table>\n",
       "</div>"
      ],
      "text/plain": [
       "Experience       1-3 years  10-20 years  20+ years  3-5 years  5-10 years  \\\n",
       "Gender                                                                      \n",
       "Gender minority   41905.66     73166.67  133829.27   78841.46   125894.23   \n",
       "Man               29037.55     85957.47  107050.00   41105.76    62538.85   \n",
       "Woman             20479.33     66486.55   75792.68   35363.05    50103.86   \n",
       "\n",
       "Experience       < 1 years  I have never written code  \n",
       "Gender                                                 \n",
       "Gender minority   23267.86                   97937.50  \n",
       "Man               22540.01                   26448.91  \n",
       "Woman             22803.06                   26494.23  "
      ]
     },
     "execution_count": 51,
     "metadata": {},
     "output_type": "execute_result"
    }
   ],
   "source": [
    "# years of professional experienece\n",
    "df_exp = df.groupby(['Experience','Gender']).mean().Salary.unstack(0)\n",
    "df_exp.round(2)"
   ]
  },
  {
   "cell_type": "code",
   "execution_count": 52,
   "id": "1491b7c3",
   "metadata": {},
   "outputs": [
    {
     "data": {
      "image/png": "[encoded data removed]",
      "text/plain": [
       "<Figure size 720x432 with 1 Axes>"
      ]
     },
     "metadata": {
      "needs_background": "light"
     },
     "output_type": "display_data"
    }
   ],
   "source": [
    "# Plot\n",
    "pos = list(range(len(df_exp['1-3 years'])))\n",
    "pos\n",
    "\n",
    "width = 0.1\n",
    "\n",
    "# ploting the bars\n",
    "fig, ax = plt.subplots(figsize = (10,6))\n",
    "\n",
    "#1.\n",
    "plt.bar(pos,df_exp['I have never written code'],width,alpha=0.75,color='#EEFFBB')\n",
    "\n",
    "#2.\n",
    "plt.bar([p+ width for p in pos],df_exp['< 1 years'],width,alpha=0.75,color='#DDFF77')\n",
    "\n",
    "#3.7\n",
    "plt.bar([p+ 2*width for p in pos],df_exp['1-3 years'],width,alpha=0.75,color='#CCFF33')\n",
    "\n",
    "#4.\n",
    "plt.bar([p+3*width for p in pos],df_exp['3-5 years'],width,alpha=0.75,color='#FFFF00')\n",
    "\n",
    "#5.\n",
    "plt.bar([p+4*width for p in pos],df_exp['5-10 years'],width,alpha=0.75,color='#EEEE00')\n",
    "\n",
    "#6.\n",
    "plt.bar([p+5*width for p in pos],df_exp['10-20 years'],width,alpha=0.75,color='#BBBB00')\n",
    "\n",
    "#7.\n",
    "plt.bar([p+6*width for p in pos],df_exp['20+ years'],width,alpha=0.75,color='#888800')\n",
    "\n",
    "\n",
    "\n",
    "\n",
    "ax.set_ylabel('Average Salary') \n",
    "ax.set_title('Average Salary by Years of Professional Experienece Based on Different Gender')\n",
    "ax.set_xticks([p+2*width for p in pos])\n",
    "ax.set_xticklabels(df_exp.index)\n",
    "\n",
    "plt.xlim(min(pos)-width,max(pos)+8*width)\n",
    "plt.ylim(0,150000)\n",
    "\n",
    "plt.legend(['I have never written code','< 1 years','1-3 years','3-5 years','5-10 years','10-20 years','10-20 years'],loc = 'upper right')\n",
    "plt.grid()\n",
    "plt.savefig('f8.png',transparent = True)\n",
    "plt.show()"
   ]
  },
  {
   "cell_type": "code",
   "execution_count": 53,
   "id": "61a5fedd",
   "metadata": {},
   "outputs": [
    {
     "data": {
      "image/png": "[encoded data removed]",
      "text/plain": [
       "<Figure size 720x432 with 1 Axes>"
      ]
     },
     "metadata": {
      "needs_background": "light"
     },
     "output_type": "display_data"
    }
   ],
   "source": [
    "# plot the average salary categorized by years of professional experienece\n",
    "# use groupby command to group by the dataframe by professional experienece and \n",
    "# visualiza the result using horizontal bar plot in a descending order\n",
    "plt.figure(figsize=(10,6))\n",
    "df_groupby_age = df.groupby([\"Experience\"]).mean()\n",
    "sort_mean_salary_byage = df_groupby_age.Salary.sort_values(ascending=True)\n",
    "sort_mean_salary_byage.plot(kind = \"barh\",alpha=0.75,color='#FFFF33')\n",
    "plt.xlabel('Salary')\n",
    "plt.ylabel('Years of Professional Experienece')\n",
    "plt.title(\"Average Salary by Professional Experience\")\n",
    "plt.grid()\n",
    "plt.savefig('f4.png',transparent = True)\n",
    "plt.show()"
   ]
  },
  {
   "cell_type": "markdown",
   "id": "c4dabe8f",
   "metadata": {},
   "source": [
    "#### 1.3 Age"
   ]
  },
  {
   "cell_type": "code",
   "execution_count": 54,
   "id": "a752a083",
   "metadata": {},
   "outputs": [
    {
     "data": {
      "text/html": [
       "<div>\n",
       "<style scoped>\n",
       "    .dataframe tbody tr th:only-of-type {\n",
       "        vertical-align: middle;\n",
       "    }\n",
       "\n",
       "    .dataframe tbody tr th {\n",
       "        vertical-align: top;\n",
       "    }\n",
       "\n",
       "    .dataframe thead th {\n",
       "        text-align: right;\n",
       "    }\n",
       "</style>\n",
       "<table border=\"1\" class=\"dataframe\">\n",
       "  <thead>\n",
       "    <tr style=\"text-align: right;\">\n",
       "      <th>Age</th>\n",
       "      <th>18-21</th>\n",
       "      <th>22-24</th>\n",
       "      <th>25-29</th>\n",
       "      <th>30-34</th>\n",
       "      <th>35-39</th>\n",
       "      <th>40-44</th>\n",
       "      <th>45-49</th>\n",
       "      <th>50-54</th>\n",
       "      <th>55-59</th>\n",
       "      <th>60-69</th>\n",
       "      <th>70+</th>\n",
       "    </tr>\n",
       "    <tr>\n",
       "      <th>Gender</th>\n",
       "      <th></th>\n",
       "      <th></th>\n",
       "      <th></th>\n",
       "      <th></th>\n",
       "      <th></th>\n",
       "      <th></th>\n",
       "      <th></th>\n",
       "      <th></th>\n",
       "      <th></th>\n",
       "      <th></th>\n",
       "      <th></th>\n",
       "    </tr>\n",
       "  </thead>\n",
       "  <tbody>\n",
       "    <tr>\n",
       "      <th>Gender minority</th>\n",
       "      <td>20687.50</td>\n",
       "      <td>41882.35</td>\n",
       "      <td>69221.15</td>\n",
       "      <td>82434.21</td>\n",
       "      <td>83700.00</td>\n",
       "      <td>113782.61</td>\n",
       "      <td>109500.00</td>\n",
       "      <td>43833.33</td>\n",
       "      <td>152800.00</td>\n",
       "      <td>162818.18</td>\n",
       "      <td>250333.33</td>\n",
       "    </tr>\n",
       "    <tr>\n",
       "      <th>Man</th>\n",
       "      <td>18570.74</td>\n",
       "      <td>20501.80</td>\n",
       "      <td>29552.17</td>\n",
       "      <td>49040.06</td>\n",
       "      <td>61222.60</td>\n",
       "      <td>68662.74</td>\n",
       "      <td>86640.45</td>\n",
       "      <td>84874.81</td>\n",
       "      <td>98720.18</td>\n",
       "      <td>87429.09</td>\n",
       "      <td>92761.63</td>\n",
       "    </tr>\n",
       "    <tr>\n",
       "      <th>Woman</th>\n",
       "      <td>4211.23</td>\n",
       "      <td>15560.91</td>\n",
       "      <td>24333.88</td>\n",
       "      <td>38696.78</td>\n",
       "      <td>46903.96</td>\n",
       "      <td>58293.99</td>\n",
       "      <td>48517.86</td>\n",
       "      <td>70841.58</td>\n",
       "      <td>76327.59</td>\n",
       "      <td>56814.81</td>\n",
       "      <td>53200.00</td>\n",
       "    </tr>\n",
       "  </tbody>\n",
       "</table>\n",
       "</div>"
      ],
      "text/plain": [
       "Age                 18-21     22-24     25-29     30-34     35-39      40-44  \\\n",
       "Gender                                                                         \n",
       "Gender minority  20687.50  41882.35  69221.15  82434.21  83700.00  113782.61   \n",
       "Man              18570.74  20501.80  29552.17  49040.06  61222.60   68662.74   \n",
       "Woman             4211.23  15560.91  24333.88  38696.78  46903.96   58293.99   \n",
       "\n",
       "Age                  45-49     50-54      55-59      60-69        70+  \n",
       "Gender                                                                 \n",
       "Gender minority  109500.00  43833.33  152800.00  162818.18  250333.33  \n",
       "Man               86640.45  84874.81   98720.18   87429.09   92761.63  \n",
       "Woman             48517.86  70841.58   76327.59   56814.81   53200.00  "
      ]
     },
     "execution_count": 54,
     "metadata": {},
     "output_type": "execute_result"
    }
   ],
   "source": [
    "# Age \n",
    "df_age = df.groupby(['Age','Gender']).mean().Salary.unstack(0)\n",
    "df_age.round(2)"
   ]
  },
  {
   "cell_type": "code",
   "execution_count": 55,
   "id": "89f17a5d",
   "metadata": {},
   "outputs": [
    {
     "data": {
      "image/png": "[encoded data removed]",
      "text/plain": [
       "<Figure size 720x432 with 1 Axes>"
      ]
     },
     "metadata": {
      "needs_background": "light"
     },
     "output_type": "display_data"
    }
   ],
   "source": [
    "# Plot\n",
    "pos = list(range(len(df_age['18-21'])))\n",
    "pos\n",
    "\n",
    "width = 0.075\n",
    "\n",
    "# ploting the bars\n",
    "fig, ax = plt.subplots(figsize = (10,6))\n",
    "\n",
    "#1.\n",
    "plt.bar(pos,df_age['18-21'],width,alpha=0.75,color='#CCEEFF')\n",
    "\n",
    "#2.\n",
    "plt.bar([p+ width for p in pos],df_age['22-24'],width,alpha=0.75,color='#77DDFF')\n",
    "\n",
    "#3.7\n",
    "plt.bar([p+ 2*width for p in pos],df_age['25-29'],width,alpha=0.75,color='#33CCFF')\n",
    "\n",
    "#4.\n",
    "plt.bar([p+3*width for p in pos],df_age['30-34'],width,alpha=0.75,color='#00BBFF')\n",
    "\n",
    "#5.\n",
    "plt.bar([p+4*width for p in pos],df_age['35-39'],width,alpha=0.75,color='#009FCC')\n",
    "\n",
    "#6.\n",
    "plt.bar([p+5*width for p in pos],df_age['40-44'],width,alpha=0.75,color='#0088A8')\n",
    "\n",
    "#7.\n",
    "plt.bar([p+6*width for p in pos],df_age['45-49'],width,alpha=0.75,color='#007799')\n",
    "\n",
    "#8.\n",
    "plt.bar([p+7*width for p in pos],df_age['50-54'],width,alpha=0.75,color='#5599FF')\n",
    "\n",
    "#9.\n",
    "plt.bar([p+8*width for p in pos],df_age['55-59'],width,alpha=0.75,color='#0066FF')\n",
    "\n",
    "#10.\n",
    "plt.bar([p+9*width for p in pos],df_age['60-69'],width,alpha=0.75,color='#0044BB')\n",
    "\n",
    "#11.\n",
    "plt.bar([p+10*width for p in pos],df_age['70+'],width,alpha=0.75,color='#003C9D')\n",
    "\n",
    "\n",
    "ax.set_ylabel('Average Salary') \n",
    "ax.set_title('Average Salary by Age Based on Different Gender')\n",
    "ax.set_xticks([p+5*width for p in pos])\n",
    "ax.set_xticklabels(df_age.index)\n",
    "\n",
    "plt.xlim(min(pos)-width,max(pos)+12*width)\n",
    "plt.ylim(0,275000)\n",
    "\n",
    "plt.legend(['18-21','22-24','25-29','30-34','35-39','40-44','45-49','50-54','55-59','60-69','70+'],loc = 'upper right')\n",
    "plt.grid()\n",
    "plt.savefig('f10.png',transparent = True)\n",
    "plt.show()"
   ]
  },
  {
   "cell_type": "code",
   "execution_count": 56,
   "id": "b678f4c8",
   "metadata": {},
   "outputs": [
    {
     "data": {
      "image/png": "[encoded data removed]",
      "text/plain": [
       "<Figure size 720x432 with 1 Axes>"
      ]
     },
     "metadata": {
      "needs_background": "light"
     },
     "output_type": "display_data"
    }
   ],
   "source": [
    "plt.figure(figsize=(10,6))\n",
    "df_groupby_age = df.groupby(['Age']).mean()\n",
    "sort_mean_salary_byage = df_groupby_age.Salary.sort_values(ascending=True)\n",
    "sort_mean_salary_byage.plot(kind = \"barh\",alpha=0.5,color='#0066FF')\n",
    "plt.xlabel('Salary')\n",
    "plt.ylabel('Age')\n",
    "plt.title(\"Average Salary by Age\")\n",
    "plt.grid()\n",
    "plt.savefig('f2.png',transparent = True)\n",
    "plt.show()"
   ]
  },
  {
   "cell_type": "markdown",
   "id": "eb3fe1bd",
   "metadata": {},
   "source": [
    "#### 1.4 Country"
   ]
  },
  {
   "cell_type": "code",
   "execution_count": 57,
   "id": "677e2e45",
   "metadata": {},
   "outputs": [
    {
     "data": {
      "image/png": "[encoded data removed]",
      "text/plain": [
       "<Figure size 1080x432 with 1 Axes>"
      ]
     },
     "metadata": {
      "needs_background": "light"
     },
     "output_type": "display_data"
    }
   ],
   "source": [
    "# Country\n",
    "# plot the sorted mean salaries gourped by each country\n",
    "# use groupby command to group by the dataframe by country and plot the column Q25 using bar chart in ascending order\n",
    "plt.figure(figsize=(15,6))\n",
    "df_groupby_country = df.groupby([\"Country\"]).mean()\n",
    "sort_mean_salary_bycountry = df_groupby_country.Salary.sort_values(ascending=False)\n",
    "sort_mean_salary_bycountry.plot.bar(alpha=0.5,color='#9955FF')\n",
    "plt.xlabel('Country')\n",
    "plt.ylabel('Salary')\n",
    "plt.title(\"Average Salary by Country\")\n",
    "plt.grid()\n",
    "plt.savefig('f1.png',transparent = True)\n",
    "plt.show()"
   ]
  },
  {
   "cell_type": "markdown",
   "id": "3116f1d9",
   "metadata": {},
   "source": [
    "## 3. Statistical Analysis \n",
    "\n",
    "### Q2\n",
    "    [4pts] Estimating the difference between average salary (Q25) of men vs. women (Q2)"
   ]
  },
  {
   "cell_type": "markdown",
   "id": "863648ff",
   "metadata": {},
   "source": [
    "#### a.   \n",
    "    a.[0.5pts] Compute and report descriptive statistics for each group (remove missing data, if\n",
    "    necessary).\n",
    "    \n",
    "    There are not exsiting missing data since the dataframe have been cleaned."
   ]
  },
  {
   "cell_type": "code",
   "execution_count": 58,
   "id": "ca6ea531",
   "metadata": {},
   "outputs": [
    {
     "data": {
      "text/html": [
       "<div>\n",
       "<style scoped>\n",
       "    .dataframe tbody tr th:only-of-type {\n",
       "        vertical-align: middle;\n",
       "    }\n",
       "\n",
       "    .dataframe tbody tr th {\n",
       "        vertical-align: top;\n",
       "    }\n",
       "\n",
       "    .dataframe thead th {\n",
       "        text-align: right;\n",
       "    }\n",
       "</style>\n",
       "<table border=\"1\" class=\"dataframe\">\n",
       "  <thead>\n",
       "    <tr style=\"text-align: right;\">\n",
       "      <th>Salary</th>\n",
       "      <th>Man</th>\n",
       "      <th>Woman</th>\n",
       "    </tr>\n",
       "  </thead>\n",
       "  <tbody>\n",
       "    <tr>\n",
       "      <th>count</th>\n",
       "      <td>12642.00</td>\n",
       "      <td>2482.00</td>\n",
       "    </tr>\n",
       "    <tr>\n",
       "      <th>mean</th>\n",
       "      <td>51193.60</td>\n",
       "      <td>34816.88</td>\n",
       "    </tr>\n",
       "    <tr>\n",
       "      <th>std</th>\n",
       "      <td>99979.27</td>\n",
       "      <td>72017.35</td>\n",
       "    </tr>\n",
       "    <tr>\n",
       "      <th>min</th>\n",
       "      <td>1000.00</td>\n",
       "      <td>1000.00</td>\n",
       "    </tr>\n",
       "    <tr>\n",
       "      <th>25%</th>\n",
       "      <td>2000.00</td>\n",
       "      <td>1000.00</td>\n",
       "    </tr>\n",
       "    <tr>\n",
       "      <th>50%</th>\n",
       "      <td>20000.00</td>\n",
       "      <td>7500.00</td>\n",
       "    </tr>\n",
       "    <tr>\n",
       "      <th>75%</th>\n",
       "      <td>60000.00</td>\n",
       "      <td>50000.00</td>\n",
       "    </tr>\n",
       "    <tr>\n",
       "      <th>max</th>\n",
       "      <td>1000000.00</td>\n",
       "      <td>1000000.00</td>\n",
       "    </tr>\n",
       "  </tbody>\n",
       "</table>\n",
       "</div>"
      ],
      "text/plain": [
       "Salary         Man       Woman\n",
       "count     12642.00     2482.00\n",
       "mean      51193.60    34816.88\n",
       "std       99979.27    72017.35\n",
       "min        1000.00     1000.00\n",
       "25%        2000.00     1000.00\n",
       "50%       20000.00     7500.00\n",
       "75%       60000.00    50000.00\n",
       "max     1000000.00  1000000.00"
      ]
     },
     "execution_count": 58,
     "metadata": {},
     "output_type": "execute_result"
    }
   ],
   "source": [
    "df_Man = df[df['Gender'] == \"Man\"]\n",
    "df_Man_salary = df_Man[['Gender','Salary']]\n",
    "df_Woman = df[df['Gender'] == \"Woman\"]\n",
    "df_Woman_salary = df_Woman[['Gender','Salary']]\n",
    "\n",
    "# initialize data of lists.\n",
    "data = {'Man': np.linalg.norm(df_Man_salary.describe().values, axis=1),\n",
    "        'Woman': np.linalg.norm(df_Woman_salary.describe().values, axis=1)}\n",
    "  \n",
    "# Creates pandas DataFrame.\n",
    "df_2a = pd.DataFrame(data, \n",
    "                  index=df_Woman_salary.describe().index)\n",
    "\n",
    "df_2a = df_2a.rename_axis('Salary',axis=1)\n",
    "df_2a.round(2)"
   ]
  },
  {
   "cell_type": "code",
   "execution_count": 59,
   "id": "c3b21118",
   "metadata": {},
   "outputs": [
    {
     "data": {
      "image/png": "[encoded data removed]",
      "text/plain": [
       "<Figure size 576x288 with 1 Axes>"
      ]
     },
     "metadata": {
      "needs_background": "light"
     },
     "output_type": "display_data"
    }
   ],
   "source": [
    "plt.figure(figsize=(8, 4))\n",
    "plt.title(\"Box Plot of Man Salary\")\n",
    "sns.boxplot(df_Man_salary.Salary,color='#5599FF')\n",
    "plt.xlim(0,150000)\n",
    "plt.grid()\n",
    "plt.savefig('f12.png',transparent = True)\n",
    "plt.show()"
   ]
  },
  {
   "cell_type": "code",
   "execution_count": 60,
   "id": "ce64d6d8",
   "metadata": {},
   "outputs": [
    {
     "data": {
      "image/png": "[encoded data removed]",
      "text/plain": [
       "<Figure size 576x288 with 1 Axes>"
      ]
     },
     "metadata": {
      "needs_background": "light"
     },
     "output_type": "display_data"
    }
   ],
   "source": [
    "plt.figure(figsize=(8, 4))\n",
    "plt.title(\"Box Plot of Woman Salary\")\n",
    "sns.boxplot(df_Woman_salary.Salary,color='#FF3333')\n",
    "plt.xlim(0,150000)\n",
    "plt.grid()\n",
    "plt.savefig('f13.png',transparent = True)\n",
    "plt.show()"
   ]
  },
  {
   "cell_type": "markdown",
   "id": "686a4aeb",
   "metadata": {},
   "source": [
    "#### b.   \n",
    "    b.[0.5pts] If suitable, perform a two-sample t-test with a 0.05 threshold. Explain your\n",
    "    rationale.\n",
    "    \n",
    "    Since the p-value from the T-test result is much smaller than 0.05 threshold, thus reject the null hypothesis shoudl be rejected. So, I can conclude that the difference of mean salaries of men and women is statistically significant. However, since two data samples are not normally distribured based on that both two histgarms do not show like a bell shape. So the T-test assumptions are violated. Thus, this conclusion may not be reliable."
   ]
  },
  {
   "cell_type": "code",
   "execution_count": 61,
   "id": "981dc9a8",
   "metadata": {},
   "outputs": [
    {
     "data": {
      "image/png": "[encoded data removed]",
      "text/plain": [
       "<Figure size 720x288 with 2 Axes>"
      ]
     },
     "metadata": {
      "needs_background": "light"
     },
     "output_type": "display_data"
    }
   ],
   "source": [
    "#plot 1:\n",
    "plt.figure(figsize=(10,4))\n",
    "\n",
    "#plot Man:\n",
    "plt.subplot(1, 2, 1)\n",
    "df_Man_salary_plot = sns.histplot(df_Man_salary['Salary'], bins=75,alpha=0.5,color='#5599FF')\n",
    "df_Man_salary_plot.ticklabel_format(style='plain')\n",
    "plt.title(\"Distribution of Men salary in DS\")\n",
    "plt.grid()\n",
    "\n",
    "#plot Woman:\n",
    "plt.subplot(1, 2, 2)\n",
    "df_Woman_salary_plot = sns.histplot(df_Woman_salary['Salary'], bins=75,alpha=0.5,color='#FF3333')\n",
    "df_Woman_salary_plot.ticklabel_format(style='plain')\n",
    "plt.title(\"Distribution of Women salary in DS\")\n",
    "plt.grid()\n",
    "\n",
    "plt.suptitle(\"Normality Tests of Salary\")\n",
    "plt.savefig('f14.png',transparent = True)\n",
    "plt.show()"
   ]
  },
  {
   "cell_type": "code",
   "execution_count": 62,
   "id": "83047381",
   "metadata": {},
   "outputs": [
    {
     "data": {
      "text/plain": [
       "Ttest_indResult(statistic=9.649519756229287, pvalue=7.952919386918026e-22)"
      ]
     },
     "execution_count": 62,
     "metadata": {},
     "output_type": "execute_result"
    }
   ],
   "source": [
    "t_test = stats.ttest_ind(df_Man_salary['Salary'],df_Woman_salary['Salary'], equal_var = False)\n",
    "t_test"
   ]
  },
  {
   "cell_type": "markdown",
   "id": "00144f26",
   "metadata": {},
   "source": [
    "#### c.\n",
    "    c. [1.5pts] Bootstrap your data for comparing the mean of salary (Q25) for the two groups.\n",
    "    Note that the number of instances you sample from each group should be relative to its\n",
    "    size. Use 1000 replications. Plot two bootstrapped distributions (for men and women) and\n",
    "    the distribution of the difference in means."
   ]
  },
  {
   "cell_type": "code",
   "execution_count": 63,
   "id": "09310762",
   "metadata": {},
   "outputs": [
    {
     "name": "stdout",
     "output_type": "stream",
     "text": [
      "The bootstrapped mean for man is 51054.97,and the bootstrapped mean for woman is 34792.43.\n"
     ]
    }
   ],
   "source": [
    "msize = int(df[df['Gender'] == 'Man'].shape[0] / 10)\n",
    "fsize = int(df[df['Gender'] == 'Woman'].shape[0] / 10)\n",
    "\n",
    "# Bootstrapping the men samples, with 1000 replications.\n",
    "random.seed(123)\n",
    "man_sam_mean = []\n",
    "for i in range(1000):\n",
    "    sam = random.sample(list(df_Man_salary['Salary'].values), k = msize)\n",
    "    man_sam_mean.append(np.mean(sam))\n",
    "\n",
    "# Bootstrapping the women samples, with 1000 replications.\n",
    "random.seed(123)\n",
    "women_sam_mean = []\n",
    "for i in range(1000):\n",
    "    sam = random.sample(list(df_Woman_salary['Salary'].values), k = fsize)\n",
    "    women_sam_mean.append(np.mean(sam))\n",
    "    \n",
    "# np.mean(men_sam_mean),np.mean(women_sam_mean)\n",
    "print(f'The bootstrapped mean for man is {np.mean(man_sam_mean).round(2)},and the bootstrapped mean for woman is {np.mean(women_sam_mean).round(2)}.')\n"
   ]
  },
  {
   "cell_type": "markdown",
   "id": "217cdd00",
   "metadata": {},
   "source": [
    "    Firstly, I determine the simulation sample sizes of men and women, using 1/10 of the original data.Then I     bootstrapped the men and woman samples separately. Last, I got man and woman bootstrapped mean and I found that both man and woman's bootstrapped mean are very close to the actual mean of its salary."
   ]
  },
  {
   "cell_type": "code",
   "execution_count": 64,
   "id": "f27a213a",
   "metadata": {},
   "outputs": [
    {
     "data": {
      "image/png": "[encoded data removed]",
      "text/plain": [
       "<Figure size 720x432 with 1 Axes>"
      ]
     },
     "metadata": {
      "needs_background": "light"
     },
     "output_type": "display_data"
    }
   ],
   "source": [
    "\n",
    "# plot the distriburions of bootstrapped data of two genders on the same graph\n",
    "plt.figure(figsize=(10,6))\n",
    "\n",
    "bootstrap_man_mean = sns.histplot(man_sam_mean, color='#5599FF',alpha=0.25,bins=30)\n",
    "bootstrap_woman_mean = sns.histplot(women_sam_mean, color='#FF3333',alpha=0.25,bins=30)\n",
    "\n",
    "plt.axvline(np.mean(man_sam_mean), color='#5599FF', linewidth=2)\n",
    "plt.axvline(np.mean(women_sam_mean), color='#FF3333', linewidth=2)\n",
    "\n",
    "plt.xticks(np.arange(20000, 65000, 5000))\n",
    "plt.yticks(np.arange(0, 120, 15))\n",
    "plt.title('Distributions of Bootstrapped Salary of Women and Men')\n",
    "plt.legend(['Man','Woman'],loc='upper right')\n",
    "plt.grid()\n",
    "plt.savefig('f15.png',transparent = True)\n",
    "plt.show()"
   ]
  },
  {
   "cell_type": "code",
   "execution_count": 65,
   "id": "e887d842",
   "metadata": {},
   "outputs": [
    {
     "name": "stdout",
     "output_type": "stream",
     "text": [
      "The mean difference in mean salary of men and women is 16262.53.\n"
     ]
    }
   ],
   "source": [
    "# Calculate the difference in means of salary for men and women.\n",
    "diff = []\n",
    "for i in range(len(man_sam_mean)):\n",
    "    diff.append(man_sam_mean[i] - women_sam_mean[i])\n",
    "    \n",
    "print(f'The mean difference in mean salary of men and women is {np.mean(diff).round(2)}.')"
   ]
  },
  {
   "cell_type": "code",
   "execution_count": 66,
   "id": "97d894d1",
   "metadata": {},
   "outputs": [
    {
     "data": {
      "image/png": "[encoded data removed]",
      "text/plain": [
       "<Figure size 720x432 with 1 Axes>"
      ]
     },
     "metadata": {
      "needs_background": "light"
     },
     "output_type": "display_data"
    }
   ],
   "source": [
    "# plot the distribution of the difference in means\n",
    "plt.figure(figsize=(10,6))\n",
    "\n",
    "difference_plot = sns.histplot(diff, color = \"#660077\", alpha=0.25, bins = 30)\n",
    "plt.axvline(np.mean(diff), color=\"#660077\", linewidth=2)\n",
    "\n",
    "plt.xticks(np.arange(-10000, 35000, 5000))\n",
    "plt.yticks(np.arange(0, 120, 15))\n",
    "plt.title('Bootstrapped difference in mean salary for men and women')\n",
    "plt.grid()\n",
    "plt.savefig('f16.png',transparent = True)\n",
    "plt.show()"
   ]
  },
  {
   "cell_type": "markdown",
   "id": "b61764ee",
   "metadata": {},
   "source": [
    "#### d.\n",
    "    d.[0.5pts] If suitable, perform a two-sample t-test with a 0.05 threshold on the bootstrapped\n",
    "    data. Explain your rationale.\n",
    "    \n",
    "    The p-value of our t-test is statistically significant with $\\alpha = 0.05$. We thus reject the null hypothesis that there is no difference between mean salary of men and women in the data science field, based on bootstrapped data. Thus I can conclude that the difference of mean salaries of men and women is statistically significant (both bootstrapped distribution distribute normally, the test assumption can be satisfied in this time). "
   ]
  },
  {
   "cell_type": "code",
   "execution_count": 67,
   "id": "53acd46a",
   "metadata": {},
   "outputs": [
    {
     "data": {
      "text/plain": [
       "Ttest_indResult(statistic=98.13923778960586, pvalue=0.0)"
      ]
     },
     "execution_count": 67,
     "metadata": {},
     "output_type": "execute_result"
    }
   ],
   "source": [
    "# The t-test (with unequal variances of two populations). Since the sample size are huge, it follows\n",
    "# an approximately normal distribution, and t-test is valid.\n",
    "t_test_bs = stats.ttest_ind(man_sam_mean, women_sam_mean, equal_var = False)\n",
    "t_test_bs"
   ]
  },
  {
   "cell_type": "markdown",
   "id": "676f2793",
   "metadata": {},
   "source": [
    "#### e.   \n",
    "    e.[1pts] Comment on your findings.\n",
    "    \n",
    "    1. The bootstrap is a method of doing inference in a way that does not require assuming a parametric form for the population distribution. \n",
    "    \n",
    "    2. Based on this question the spread of mean salary of men and women are significantly different, based on the\n",
    "    Distributions of Bootstrapped Salary of Women and Men; This verfied that I should set ' equal_var = False' when\n",
    "    did t-test\n",
    "    \n",
    "    3. Based on this question,there is a high statistically significant difference between mean salary of men and women in the data science field. The difference based on bootstrapping is 16467.47.\n",
    "   "
   ]
  },
  {
   "cell_type": "markdown",
   "id": "7d64b122",
   "metadata": {},
   "source": [
    "### Q3 \n",
    "    [5pts] Select “highest level of formal education” (Q4) from the dataset and repeat steps a to e,\n",
    "    this time use analysis of variance (ANOVA) instead of t-test for hypothesis testing to compare the\n",
    "    means of salary for three groups (Bachelor’s degree, Master’s degree, and Doctoral degree)\n",
    "    [0.75pts for a; 0.5 pts for b; 2pts for c; 0.75 pts for d; 1pt for e].\n",
    "    \n",
    "#### a."
   ]
  },
  {
   "cell_type": "code",
   "execution_count": 68,
   "id": "a19b4f6d",
   "metadata": {},
   "outputs": [
    {
     "data": {
      "text/html": [
       "<div>\n",
       "<style scoped>\n",
       "    .dataframe tbody tr th:only-of-type {\n",
       "        vertical-align: middle;\n",
       "    }\n",
       "\n",
       "    .dataframe tbody tr th {\n",
       "        vertical-align: top;\n",
       "    }\n",
       "\n",
       "    .dataframe thead th {\n",
       "        text-align: right;\n",
       "    }\n",
       "</style>\n",
       "<table border=\"1\" class=\"dataframe\">\n",
       "  <thead>\n",
       "    <tr style=\"text-align: right;\">\n",
       "      <th>Salary</th>\n",
       "      <th>Bachelor’s degree</th>\n",
       "      <th>Master’s degree</th>\n",
       "      <th>Doctoral degree</th>\n",
       "    </tr>\n",
       "  </thead>\n",
       "  <tbody>\n",
       "    <tr>\n",
       "      <th>count</th>\n",
       "      <td>4777.00</td>\n",
       "      <td>6799.00</td>\n",
       "      <td>2217.00</td>\n",
       "    </tr>\n",
       "    <tr>\n",
       "      <th>mean</th>\n",
       "      <td>35578.29</td>\n",
       "      <td>52706.87</td>\n",
       "      <td>70641.18</td>\n",
       "    </tr>\n",
       "    <tr>\n",
       "      <th>std</th>\n",
       "      <td>89382.06</td>\n",
       "      <td>90928.79</td>\n",
       "      <td>117160.95</td>\n",
       "    </tr>\n",
       "    <tr>\n",
       "      <th>min</th>\n",
       "      <td>1000.00</td>\n",
       "      <td>1000.00</td>\n",
       "      <td>1000.00</td>\n",
       "    </tr>\n",
       "    <tr>\n",
       "      <th>25%</th>\n",
       "      <td>1000.00</td>\n",
       "      <td>3000.00</td>\n",
       "      <td>4000.00</td>\n",
       "    </tr>\n",
       "    <tr>\n",
       "      <th>50%</th>\n",
       "      <td>7500.00</td>\n",
       "      <td>25000.00</td>\n",
       "      <td>40000.00</td>\n",
       "    </tr>\n",
       "    <tr>\n",
       "      <th>75%</th>\n",
       "      <td>40000.00</td>\n",
       "      <td>70000.00</td>\n",
       "      <td>90000.00</td>\n",
       "    </tr>\n",
       "    <tr>\n",
       "      <th>max</th>\n",
       "      <td>1000000.00</td>\n",
       "      <td>1000000.00</td>\n",
       "      <td>1000000.00</td>\n",
       "    </tr>\n",
       "  </tbody>\n",
       "</table>\n",
       "</div>"
      ],
      "text/plain": [
       "Salary  Bachelor’s degree  Master’s degree  Doctoral degree\n",
       "count             4777.00          6799.00          2217.00\n",
       "mean             35578.29         52706.87         70641.18\n",
       "std              89382.06         90928.79        117160.95\n",
       "min               1000.00          1000.00          1000.00\n",
       "25%               1000.00          3000.00          4000.00\n",
       "50%               7500.00         25000.00         40000.00\n",
       "75%              40000.00         70000.00         90000.00\n",
       "max            1000000.00       1000000.00       1000000.00"
      ]
     },
     "execution_count": 68,
     "metadata": {},
     "output_type": "execute_result"
    }
   ],
   "source": [
    "# Bachelor’s degree\n",
    "df_Bachelor = df[df['Education'] == \"Bachelor’s degree\"]\n",
    "df_Bachelor_salary = df_Bachelor[['Gender','Salary']]\n",
    "\n",
    "# Master’s degree\n",
    "df_Master = df[df['Education'] == \"Master’s degree\"]\n",
    "df_Master_salary = df_Master[['Gender','Salary']]\n",
    "\n",
    "# Doctoral degree\n",
    "df_Doctoral = df[df['Education'] == \"Doctoral degree\"]\n",
    "df_Doctoral_salary = df_Doctoral[['Gender','Salary']]\n",
    "\n",
    "# initialize data of lists.\n",
    "data = {'Bachelor’s degree': np.linalg.norm(df_Bachelor_salary.describe().values, axis=1),\n",
    "        'Master’s degree': np.linalg.norm(df_Master_salary.describe().values, axis=1),\n",
    "         'Doctoral degree':np.linalg.norm(df_Doctoral_salary.describe().values, axis=1)}\n",
    "  \n",
    "# Creates pandas DataFrame.\n",
    "df_3a = pd.DataFrame(data, \n",
    "                  index=df_Bachelor_salary.describe().index)\n",
    "\n",
    "df_3a = df_3a.rename_axis('Salary',axis=1)\n",
    "df_3a.round(2)"
   ]
  },
  {
   "cell_type": "code",
   "execution_count": 69,
   "id": "ef950d6e",
   "metadata": {},
   "outputs": [
    {
     "data": {
      "image/png": "[encoded data removed]",
      "text/plain": [
       "<Figure size 576x288 with 1 Axes>"
      ]
     },
     "metadata": {
      "needs_background": "light"
     },
     "output_type": "display_data"
    }
   ],
   "source": [
    "plt.figure(figsize=(8, 4))\n",
    "plt.title(\"Box Plot of Bachelor’s degree\")\n",
    "sns.boxplot(df_Bachelor_salary.Salary,color='#00DD77')\n",
    "plt.xlim(0,160000)\n",
    "plt.grid()\n",
    "plt.savefig('f18.png',transparent = True)\n",
    "plt.show()"
   ]
  },
  {
   "cell_type": "code",
   "execution_count": 70,
   "id": "1388e842",
   "metadata": {},
   "outputs": [
    {
     "data": {
      "image/png": "[encoded data removed]",
      "text/plain": [
       "<Figure size 576x288 with 1 Axes>"
      ]
     },
     "metadata": {
      "needs_background": "light"
     },
     "output_type": "display_data"
    }
   ],
   "source": [
    "plt.figure(figsize=(8, 4))\n",
    "plt.title(\"Box Plot of Master’s degree\")\n",
    "sns.boxplot(df_Master_salary.Salary,color='#00DD00')\n",
    "plt.xlim(0,160000)\n",
    "plt.grid()\n",
    "plt.savefig('f19.png',transparent = True)\n",
    "plt.show()"
   ]
  },
  {
   "cell_type": "code",
   "execution_count": 71,
   "id": "95d5baad",
   "metadata": {},
   "outputs": [
    {
     "data": {
      "image/png": "[encoded data removed]",
      "text/plain": [
       "<Figure size 576x288 with 1 Axes>"
      ]
     },
     "metadata": {
      "needs_background": "light"
     },
     "output_type": "display_data"
    }
   ],
   "source": [
    "plt.figure(figsize=(8, 4))\n",
    "plt.title(\"Box Plot of Doctoral’s degree\")\n",
    "sns.boxplot(df_Doctoral_salary.Salary,color='#66DD00')\n",
    "plt.xlim(0,250000)\n",
    "plt.grid()\n",
    "plt.savefig('f20.png',transparent = True)\n",
    "plt.show()"
   ]
  },
  {
   "cell_type": "markdown",
   "id": "accc440d",
   "metadata": {},
   "source": [
    "#### b.\n",
    "    \n",
    "     before I apply ANOVA test, I need check if the variance of bachelor, master, and doctoral are homogeneous. And since the variacne of bachelor salary is very close to the variance of master salary, however, the the doctoral salary is relatively larger than them. Thus, I don't think equal variance assumption can be meet if we did the ANOVA test here. But I still do the ANOVA test primarily below. "
   ]
  },
  {
   "cell_type": "code",
   "execution_count": 72,
   "id": "82461a4e",
   "metadata": {},
   "outputs": [
    {
     "data": {
      "image/png": "[encoded data removed]",
      "text/plain": [
       "<Figure size 720x576 with 3 Axes>"
      ]
     },
     "metadata": {
      "needs_background": "light"
     },
     "output_type": "display_data"
    }
   ],
   "source": [
    "## Normality Checking\n",
    "#plot 1:\n",
    "plt.figure(figsize=(10,8))\n",
    "\n",
    "#plot Bachelor:\n",
    "plt.subplot(2, 2, 1)\n",
    "df_Bachelor_salary_plot = sns.histplot(df_Bachelor_salary['Salary'], bins=75,alpha=0.5,color='#FF5511')\n",
    "df_Bachelor_salary_plot.ticklabel_format(style='plain')\n",
    "plt.title(\"Distribution of Bachelor salary in DS\")\n",
    "plt.grid()\n",
    "\n",
    "#plot Master:\n",
    "plt.subplot(2, 2, 2)\n",
    "df_Master_salary_plot = sns.histplot(df_Master_salary['Salary'], bins=75,alpha=0.5,color='#FF0000')\n",
    "df_Master_salary_plot.ticklabel_format(style='plain')\n",
    "plt.title(\"Distribution of Master salary in DS\")\n",
    "plt.grid()\n",
    "\n",
    "#plot Doctor:\n",
    "plt.subplot(2, 2, 3)\n",
    "df_Doctoral_salary_plot = sns.histplot(df_Doctoral_salary['Salary'], bins=75,alpha=0.5,color='#0066FF')\n",
    "df_Doctoral_salary_plot.ticklabel_format(style='plain')\n",
    "plt.title(\"Distribution of Doctor salary in DS\")\n",
    "plt.grid()\n",
    "\n",
    "plt.suptitle(\"Normality Tests of Salary\")\n",
    "plt.savefig('f21.png',transparent = True)\n",
    "plt.show()"
   ]
  },
  {
   "cell_type": "code",
   "execution_count": 73,
   "id": "bc869b3c",
   "metadata": {},
   "outputs": [
    {
     "name": "stdout",
     "output_type": "stream",
     "text": [
      "0.9829590969708605\n",
      "0.776219499588062\n",
      "0.7629920183662547\n"
     ]
    }
   ],
   "source": [
    "## Variance checking\n",
    "# Bachelor’s degree\n",
    "print(np.std(df_Bachelor_salary.Salary) / np.std(df_Master_salary.Salary))\n",
    "\n",
    "# Master’s degree\n",
    "print(np.std(df_Master_salary.Salary) / np.std(df_Doctoral_salary.Salary))\n",
    "\n",
    "# Doctoral’s degree\n",
    "print(np.std(df_Bachelor_salary.Salary) / np.std(df_Doctoral_salary.Salary))"
   ]
  },
  {
   "cell_type": "code",
   "execution_count": 74,
   "id": "44d46e74",
   "metadata": {},
   "outputs": [
    {
     "data": {
      "text/plain": [
       "F_onewayResult(statistic=109.75776160573479, pvalue=5.107696325253651e-48)"
      ]
     },
     "execution_count": 74,
     "metadata": {},
     "output_type": "execute_result"
    }
   ],
   "source": [
    "f_test = stats.f_oneway(df_Bachelor_salary.Salary, df_Master_salary.Salary, df_Doctoral_salary.Salary)\n",
    "f_test"
   ]
  },
  {
   "cell_type": "markdown",
   "id": "bf905d4d",
   "metadata": {},
   "source": [
    "    From the F test above, I got a very small p-value (almost 0), so we reject the null hypothesis that the mean salary of the three groups are the the same. Thus, the alternative hypothesis should be taken, and I can conclude that at least one group mean is different than others.\n",
    "    \n",
    "#### c."
   ]
  },
  {
   "cell_type": "code",
   "execution_count": 75,
   "id": "bc866bb3",
   "metadata": {},
   "outputs": [
    {
     "name": "stdout",
     "output_type": "stream",
     "text": [
      "The mean salary of Bachelor is 35606.43, Master is 52729.49, and Doctoral is 70998.15. \n"
     ]
    }
   ],
   "source": [
    "Bsize = int(df[df['Education'] == \"Bachelor’s degree\"].shape[0] / 10)\n",
    "Msize = int(df[df['Education'] == \"Master’s degree\"].shape[0] / 10)\n",
    "Dsize = int(df[df['Education'] == \"Doctoral degree\"].shape[0] / 10)\n",
    "\n",
    "# Bootstrapping the Bachelor’s degree samples, with 1000 replications.\n",
    "random.seed(123)\n",
    "Bachelor_sam_mean = []\n",
    "for i in range(1000):\n",
    "    sam = random.sample(list(df_Bachelor_salary['Salary'].values), k = Bsize)\n",
    "    Bachelor_sam_mean.append(np.mean(sam))\n",
    "\n",
    "# Bootstrapping the Master’s degree samples, with 1000 replications.\n",
    "random.seed(123)\n",
    "Master_sam_mean = []\n",
    "for i in range(1000):\n",
    "    sam = random.sample(list(df_Master_salary['Salary'].values), k = Msize)\n",
    "    Master_sam_mean.append(np.mean(sam))\n",
    "\n",
    "# Bootstrapping the Doctoral’s degree samples, with 1000 replications.\n",
    "random.seed(123)\n",
    "Doctoral_sam_mean = []\n",
    "for i in range(1000):\n",
    "    sam = random.sample(list(df_Doctoral_salary['Salary'].values), k = Dsize)\n",
    "    Doctoral_sam_mean.append(np.mean(sam))\n",
    "    \n",
    "# np.mean(men_sam_mean),np.mean(women_sam_mean)\n",
    "print(f'The mean salary of Bachelor is {np.mean(Bachelor_sam_mean).round(2)}, Master is {np.mean(Master_sam_mean).round(2)}, and Doctoral is {np.mean(Doctoral_sam_mean).round(2)}. ')\n",
    "\n"
   ]
  },
  {
   "cell_type": "code",
   "execution_count": 76,
   "id": "33aafe83",
   "metadata": {},
   "outputs": [
    {
     "data": {
      "image/png": "[encoded data removed]",
      "text/plain": [
       "<Figure size 720x432 with 1 Axes>"
      ]
     },
     "metadata": {
      "needs_background": "light"
     },
     "output_type": "display_data"
    }
   ],
   "source": [
    "# plot the distriburions of bootstrapped data of two genders on the same graph\n",
    "plt.figure(figsize=(10,6))\n",
    "\n",
    "bootstrap_Bachelor_mean = sns.histplot(Bachelor_sam_mean, color='#9999FF',alpha=0.5,bins=30)\n",
    "bootstrap_Master_mean = sns.histplot(Master_sam_mean, color='#0000FF',alpha=0.5,bins=30)\n",
    "bootstrap_Doctoral_mean = sns.histplot(Doctoral_sam_mean, color='#220088',alpha=0.5,bins=30)\n",
    "\n",
    "plt.axvline(np.mean(Bachelor_sam_mean), color='#9999FF', linewidth=2)\n",
    "plt.axvline(np.mean(Master_sam_mean), color='#0000FF', linewidth=2)\n",
    "plt.axvline(np.mean(Doctoral_sam_mean), color='#220088', linewidth=2)\n",
    "\n",
    "plt.xticks(np.arange(20000, 105000, 10000))\n",
    "plt.yticks(np.arange(0, 110, 10))\n",
    "plt.title('Distributions of Bootstrapped Salary of Different Education Level')\n",
    "plt.legend(['Bachelor','Master','Doctoral'],loc='upper right')\n",
    "plt.grid()\n",
    "plt.savefig('f22.png',transparent = True)\n",
    "plt.show()"
   ]
  },
  {
   "cell_type": "code",
   "execution_count": 77,
   "id": "0272e634",
   "metadata": {},
   "outputs": [
    {
     "name": "stdout",
     "output_type": "stream",
     "text": [
      "The mean difference in mean salary of Doctoral and Master is 18268.67.\n"
     ]
    }
   ],
   "source": [
    "# Calculate the difference in means of salary for Doctoral and Master\n",
    "diff_1 = []\n",
    "for i in range(len(Doctoral_sam_mean)):\n",
    "    diff_1.append(Doctoral_sam_mean[i] - Master_sam_mean[i])\n",
    "    \n",
    "print(f'The mean difference in mean salary of Doctoral and Master is {np.mean(diff_1).round(2)}.')"
   ]
  },
  {
   "cell_type": "code",
   "execution_count": 78,
   "id": "b6dfbe57",
   "metadata": {},
   "outputs": [
    {
     "data": {
      "image/png": "[encoded data removed]",
      "text/plain": [
       "<Figure size 720x432 with 1 Axes>"
      ]
     },
     "metadata": {
      "needs_background": "light"
     },
     "output_type": "display_data"
    }
   ],
   "source": [
    "# plot the distribution of the difference in means\n",
    "plt.figure(figsize=(10,6))\n",
    "\n",
    "difference_plot = sns.histplot(diff_1, color = \"#FF8800\", alpha=0.5, bins = 30)\n",
    "plt.axvline(np.mean(diff_1), color=\"#FF8800\", linewidth=2)\n",
    "\n",
    "plt.xticks(np.arange(-10000, 50000, 5000))\n",
    "plt.yticks(np.arange(0, 110, 10))\n",
    "plt.title('Bootstrapped difference in mean salary between Doctoral and Master degree')\n",
    "plt.grid()\n",
    "plt.savefig('f23.png',transparent = True)\n",
    "plt.show()"
   ]
  },
  {
   "cell_type": "code",
   "execution_count": 79,
   "id": "12cb0992",
   "metadata": {},
   "outputs": [
    {
     "name": "stdout",
     "output_type": "stream",
     "text": [
      "The mean difference in mean salary of Doctoral and Bachelor is 35391.72.\n"
     ]
    }
   ],
   "source": [
    "# Calculate the difference in means of salary for Doctoral and Bachelor\n",
    "diff_2 = []\n",
    "for i in range(len(Doctoral_sam_mean)):\n",
    "    diff_2.append(Doctoral_sam_mean[i] - Bachelor_sam_mean[i])\n",
    "    \n",
    "print(f'The mean difference in mean salary of Doctoral and Bachelor is {np.mean(diff_2).round(2)}.')"
   ]
  },
  {
   "cell_type": "code",
   "execution_count": 80,
   "id": "e6c35f31",
   "metadata": {},
   "outputs": [
    {
     "data": {
      "image/png": "[encoded data removed]",
      "text/plain": [
       "<Figure size 720x432 with 1 Axes>"
      ]
     },
     "metadata": {
      "needs_background": "light"
     },
     "output_type": "display_data"
    }
   ],
   "source": [
    "# plot the distribution of the difference in means\n",
    "plt.figure(figsize=(10,6))\n",
    "\n",
    "difference_plot = sns.histplot(diff_2, color = \"#FF5511\", alpha=0.5, bins = 30)\n",
    "plt.axvline(np.mean(diff_2), color=\"#FF5511\", linewidth=2)\n",
    "\n",
    "plt.xticks(np.arange(0, 65000, 5000))\n",
    "plt.yticks(np.arange(0, 110, 10))\n",
    "plt.title('Bootstrapped difference in mean salary between Doctoral and Bachelor degree')\n",
    "plt.grid()\n",
    "plt.savefig('f24.png',transparent = True)\n",
    "plt.show()"
   ]
  },
  {
   "cell_type": "code",
   "execution_count": 81,
   "id": "0bb9468f",
   "metadata": {},
   "outputs": [
    {
     "name": "stdout",
     "output_type": "stream",
     "text": [
      "The mean difference in mean salary of Master and Bachelor is 17123.06.\n"
     ]
    }
   ],
   "source": [
    "# Calculate the difference in means of salary for Master and Bachelor\n",
    "diff_3 = []\n",
    "for i in range(len(Master_sam_mean)):\n",
    "    diff_3.append(Master_sam_mean[i] - Bachelor_sam_mean[i])\n",
    "    \n",
    "print(f'The mean difference in mean salary of Master and Bachelor is {np.mean(diff_3).round(2)}.')"
   ]
  },
  {
   "cell_type": "code",
   "execution_count": 82,
   "id": "29ab91aa",
   "metadata": {},
   "outputs": [
    {
     "data": {
      "image/png": "[encoded data removed]",
      "text/plain": [
       "<Figure size 720x432 with 1 Axes>"
      ]
     },
     "metadata": {
      "needs_background": "light"
     },
     "output_type": "display_data"
    }
   ],
   "source": [
    "# plot the distribution of the difference in means\n",
    "plt.figure(figsize=(10,6))\n",
    "\n",
    "difference_plot = sns.histplot(diff_3, color = \"#00BBFF\", alpha=0.5, bins = 30)\n",
    "plt.axvline(np.mean(diff_3), color=\"#00BBFF\", linewidth=2)\n",
    "\n",
    "plt.xticks(np.arange(0, 50000, 5000))\n",
    "plt.yticks(np.arange(0, 110, 10))\n",
    "plt.title('Bootstrapped difference in mean salary between Master and Bachelor degree')\n",
    "plt.grid()\n",
    "plt.savefig('f25.png',transparent = True)\n",
    "plt.show()"
   ]
  },
  {
   "cell_type": "markdown",
   "id": "44f3d57f",
   "metadata": {},
   "source": [
    "#### d.\n",
    "    ANOVA is still not suitable here.Because all bootstrapped distribution distribute normally, the normality assumption can be satisfied after bootstrapping. But from doctoral displays a higher variance(Figure 22), thus equal variance assumption is still violated. Though, the f-score is 10938.95, larger than q3.b. So, the null hypothesis still be rejected. I conclude there is at least one group mean is different than others."
   ]
  },
  {
   "cell_type": "code",
   "execution_count": 83,
   "id": "c1474a9d",
   "metadata": {},
   "outputs": [
    {
     "data": {
      "text/plain": [
       "F_onewayResult(statistic=10938.94671225457, pvalue=0.0)"
      ]
     },
     "execution_count": 83,
     "metadata": {},
     "output_type": "execute_result"
    }
   ],
   "source": [
    "f_test_2 = stats.f_oneway(Bachelor_sam_mean, Master_sam_mean, Doctoral_sam_mean)\n",
    "f_test_2"
   ]
  },
  {
   "cell_type": "markdown",
   "id": "5b8591cf",
   "metadata": {},
   "source": [
    "#### e."
   ]
  },
  {
   "cell_type": "markdown",
   "id": "615ace17",
   "metadata": {},
   "source": [
    "     In future, I can use bootstrapping method do inference without assuming a parametric form for the population distribution. It is very useful when normality assumption is need but violate. However, bootstrapping method can only fix distributions to normal distribution with different variance, thus this method cannot help with fixing equal variance assumption."
   ]
  },
  {
   "cell_type": "code",
   "execution_count": null,
   "id": "0c02121a",
   "metadata": {},
   "outputs": [],
   "source": []
  }
 ],
 "metadata": {
  "kernelspec": {
   "display_name": "Python 3 (ipykernel)",
   "language": "python",
   "name": "python3"
  },
  "language_info": {
   "codemirror_mode": {
    "name": "ipython",
    "version": 3
   },
   "file_extension": ".py",
   "mimetype": "text/x-python",
   "name": "python",
   "nbconvert_exporter": "python",
   "pygments_lexer": "ipython3",
   "version": "3.7.6"
  }
 },
 "nbformat": 4,
 "nbformat_minor": 5
}
